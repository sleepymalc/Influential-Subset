{
 "cells": [
  {
   "cell_type": "code",
   "execution_count": 123,
   "id": "e5b4a2a5-b69e-4e99-8269-4769197b4612",
   "metadata": {},
   "outputs": [],
   "source": [
    "import numpy as np"
   ]
  },
  {
   "cell_type": "code",
   "execution_count": 124,
   "id": "15a327a7-38d9-45ea-bd1e-c7f6c0b7bbbb",
   "metadata": {},
   "outputs": [],
   "source": [
    "n = 50    # number of data points\n",
    "d = 30    # number of features\n",
    "lbd = 0.1    # regularization \n",
    "\n",
    "x = np.random.randn(n, d)     # design matrix\n",
    "y = np.random.randn(n, 1)     # target vector\n",
    "tmp = np.linalg.inv(x.T @ x + lbd * np.eye(d))      \n",
    "theta = tmp @ x.T @ y     # optimal solution\n",
    "H_l_inv = 0.5 * tmp       # inverse of Hessian"
   ]
  },
  {
   "cell_type": "code",
   "execution_count": 125,
   "id": "be905e1b-5e56-4823-ba40-0880efea2f9a",
   "metadata": {},
   "outputs": [],
   "source": [
    "H_l_list = []      # Hessian on each data point\n",
    "for i in range(n):\n",
    "    H_l_list.append(2 * (np.outer(x[i], x[i].T)))\n",
    "\n",
    "g_list = []        # gradient on each data point\n",
    "for j in range(n):\n",
    "    g_list.append(2 * (x[j] @ theta - y[j]) * x[j])"
   ]
  },
  {
   "cell_type": "code",
   "execution_count": 126,
   "id": "4ab78ed4-0d49-4582-a556-1182c37f7537",
   "metadata": {},
   "outputs": [],
   "source": [
    "# \\phi = MSE (or weighted MSE)\n",
    "p = 2 * (x.T @ x @ theta - x.T @ y)     # \\frac{\\partial\\phi}{\\partial\\theta}\n",
    "\n",
    "h = x.T @ x    # \\frac{\\partial^2 \\phi}{\\partial^2 \\theta}\n",
    "\n",
    "pm_list = []    # \\frac{\\partial^2 \\phi}{\\partial \\theta \\partial w_j}, when \\phi = weighted MSE\n",
    "for j in range(n):\n",
    "    cur_value = (2 * (x[j] @ theta - y[j]) * x[j]).reshape(d, 1)\n",
    "    pm_list.append(cur_value)"
   ]
  },
  {
   "cell_type": "code",
   "execution_count": 127,
   "id": "1b8d00e8-5acc-47a0-9a96-dbd04e42de1e",
   "metadata": {},
   "outputs": [
    {
     "name": "stderr",
     "output_type": "stream",
     "text": [
      "C:\\Users\\huyuz\\AppData\\Local\\Temp\\ipykernel_390360\\319395492.py:13: DeprecationWarning: Conversion of an array with ndim > 0 to a scalar is deprecated, and will error in future. Ensure you extract a single element from your array before performing this operation. (Deprecated NumPy 1.25.)\n",
      "  T[i][j] = term_1 + term_2 + term_3 + term_4 + term_5 + term_6\n"
     ]
    }
   ],
   "source": [
    "T = np.zeros((n, n))\n",
    "\n",
    "for i in range(n):\n",
    "    for j in range(n):\n",
    "        if i == j: continue     # ignore the diagonal entries\n",
    "        term_1 = 0    # \\frac{\\partial^2 \\phi}{\\partial^2 w} = 0\n",
    "        term_2 = - g_list[j] @ (H_l_inv @ H_l_list[i] @ H_l_inv @ p)\n",
    "        term_3 = - g_list[i] @ (H_l_inv @ H_l_list[j] @ H_l_inv @ p)\n",
    "        term_4 = 0     # order-3 tensor is 0\n",
    "        # term_5 = 0   # for MSE\n",
    "        term_5 = - g_list[i] @ (H_l_inv @ pm_list[j])  # for weighted MSE\n",
    "        term_6 = g_list[i] @ H_l_inv @ h @ H_l_inv @ g_list[j]\n",
    "        T[i][j] = term_1 + term_2 + term_3 + term_4 + term_5 + term_6\n",
    "        "
   ]
  },
  {
   "cell_type": "code",
   "execution_count": 128,
   "id": "12d4b5eb-fb0f-43de-8772-785fe08b5c79",
   "metadata": {},
   "outputs": [
    {
     "data": {
      "text/plain": [
       "array([[ 0.        ,  0.00210723, -0.01572812, ..., -0.01523885,\n",
       "         0.00782923, -0.00605388],\n",
       "       [ 0.00210723,  0.        , -0.00799303, ..., -0.00440251,\n",
       "         0.00422997,  0.00081806],\n",
       "       [-0.01572812, -0.00799303,  0.        , ..., -0.04786961,\n",
       "         0.10002467,  0.01300096],\n",
       "       ...,\n",
       "       [-0.01523885, -0.00440251, -0.04786961, ...,  0.        ,\n",
       "         0.05356128,  0.00260695],\n",
       "       [ 0.00782923,  0.00422997,  0.10002467, ...,  0.05356128,\n",
       "         0.        , -0.06108159],\n",
       "       [-0.00605388,  0.00081806,  0.01300096, ...,  0.00260695,\n",
       "        -0.06108159,  0.        ]])"
      ]
     },
     "execution_count": 128,
     "metadata": {},
     "output_type": "execute_result"
    }
   ],
   "source": [
    "T"
   ]
  },
  {
   "cell_type": "code",
   "execution_count": null,
   "id": "f833e227-8d42-4d8e-9a20-6412d6c87ed5",
   "metadata": {},
   "outputs": [],
   "source": []
  },
  {
   "cell_type": "code",
   "execution_count": null,
   "id": "c1126531-7e13-4cc5-85ea-e991b14f045f",
   "metadata": {},
   "outputs": [],
   "source": []
  }
 ],
 "metadata": {
  "kernelspec": {
   "display_name": "Python 3 (ipykernel)",
   "language": "python",
   "name": "python3"
  },
  "language_info": {
   "codemirror_mode": {
    "name": "ipython",
    "version": 3
   },
   "file_extension": ".py",
   "mimetype": "text/x-python",
   "name": "python",
   "nbconvert_exporter": "python",
   "pygments_lexer": "ipython3",
   "version": "3.11.5"
  }
 },
 "nbformat": 4,
 "nbformat_minor": 5
}
