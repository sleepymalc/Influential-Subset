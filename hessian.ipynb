{
 "cells": [
  {
   "cell_type": "code",
   "execution_count": 117,
   "id": "e5b4a2a5-b69e-4e99-8269-4769197b4612",
   "metadata": {},
   "outputs": [],
   "source": [
    "import numpy as np"
   ]
  },
  {
   "cell_type": "code",
   "execution_count": 118,
   "id": "15a327a7-38d9-45ea-bd1e-c7f6c0b7bbbb",
   "metadata": {},
   "outputs": [],
   "source": [
    "n = 50\n",
    "d = 30\n",
    "lbd = 0.1\n",
    "\n",
    "x = np.random.randn(n, d)\n",
    "y = np.random.randn(n, 1)\n",
    "tmp = np.linalg.inv(x.T @ x + lbd * np.eye(d)) \n",
    "theta = tmp @ x.T @ y\n",
    "H_l_inv = 0.5 * tmp"
   ]
  },
  {
   "cell_type": "code",
   "execution_count": 119,
   "id": "be905e1b-5e56-4823-ba40-0880efea2f9a",
   "metadata": {},
   "outputs": [],
   "source": [
    "H_l_list = [] \n",
    "for i in range(n):\n",
    "    H_l_list.append(2 * (np.outer(x[i], x[i].T)))\n",
    "\n",
    "g_list = []\n",
    "for j in range(n):\n",
    "    g_list.append(2 * (x[j] @ theta - y[j]) * x[j])"
   ]
  },
  {
   "cell_type": "code",
   "execution_count": 120,
   "id": "4ab78ed4-0d49-4582-a556-1182c37f7537",
   "metadata": {},
   "outputs": [],
   "source": [
    "# \\phi = MSE (or weighted MSE)\n",
    "# \\frac{\\partial \\phi}{\\partial \\theta}\n",
    "p = 2 * (x.T @ x @ theta - x.T @ y)\n",
    "\n",
    "# \\frac{\\partial^2 \\phi}{\\partial^2 \\theta}\n",
    "h = x.T @ x\n",
    "\n",
    "# \\frac{\\partial^2 \\phi}{\\partial \\theta \\partial w_j}, when \\phi = weighted MSE\n",
    "pm_list = []\n",
    "for j in range(n):\n",
    "    cur_value = (2 * (x[j] @ theta - y[j]) * x[j]).reshape(d, 1)\n",
    "    pm_list.append(cur_value)"
   ]
  },
  {
   "cell_type": "code",
   "execution_count": 121,
   "id": "1b8d00e8-5acc-47a0-9a96-dbd04e42de1e",
   "metadata": {},
   "outputs": [
    {
     "name": "stderr",
     "output_type": "stream",
     "text": [
      "C:\\Users\\huyuz\\AppData\\Local\\Temp\\ipykernel_390360\\2344254557.py:11: DeprecationWarning: Conversion of an array with ndim > 0 to a scalar is deprecated, and will error in future. Ensure you extract a single element from your array before performing this operation. (Deprecated NumPy 1.25.)\n",
      "  T[i][j] = term1 + term2 + term3 + term4\n"
     ]
    }
   ],
   "source": [
    "T = np.zeros((n, n))\n",
    "\n",
    "for i in range(n):\n",
    "    for j in range(n):\n",
    "        if i == j: continue\n",
    "        term1 = - g_list[j] @ (H_l_inv @ H_l_list[i] @ H_l_inv @ p)\n",
    "        term2 = - g_list[i] @ (H_l_inv @ H_l_list[j] @ H_l_inv @ p)\n",
    "        # term3 = 0  # for MSE\n",
    "        term3 = - g_list[i] @ (H_l_inv @ pm_list[j])  # for weighted MSE\n",
    "        term4 = g_list[i] @ H_l_inv @ h @ H_l_inv @ g_list[j]\n",
    "        T[i][j] = term1 + term2 + term3 + term4\n",
    "        "
   ]
  },
  {
   "cell_type": "code",
   "execution_count": 122,
   "id": "12d4b5eb-fb0f-43de-8772-785fe08b5c79",
   "metadata": {},
   "outputs": [
    {
     "data": {
      "text/plain": [
       "array([[ 0.        ,  0.00030899,  0.001124  , ...,  0.00068603,\n",
       "        -0.00026503,  0.0014316 ],\n",
       "       [ 0.00030899,  0.        ,  0.01617418, ...,  0.00132547,\n",
       "        -0.00337103, -0.00141266],\n",
       "       [ 0.001124  ,  0.01617418,  0.        , ...,  0.01026817,\n",
       "         0.01684533, -0.00017626],\n",
       "       ...,\n",
       "       [ 0.00068603,  0.00132547,  0.01026817, ...,  0.        ,\n",
       "         0.00330383, -0.01748819],\n",
       "       [-0.00026503, -0.00337103,  0.01684533, ...,  0.00330383,\n",
       "         0.        ,  0.01262789],\n",
       "       [ 0.0014316 , -0.00141266, -0.00017626, ..., -0.01748819,\n",
       "         0.01262789,  0.        ]])"
      ]
     },
     "execution_count": 122,
     "metadata": {},
     "output_type": "execute_result"
    }
   ],
   "source": [
    "T"
   ]
  },
  {
   "cell_type": "code",
   "execution_count": null,
   "id": "f833e227-8d42-4d8e-9a20-6412d6c87ed5",
   "metadata": {},
   "outputs": [],
   "source": []
  },
  {
   "cell_type": "code",
   "execution_count": null,
   "id": "c1126531-7e13-4cc5-85ea-e991b14f045f",
   "metadata": {},
   "outputs": [],
   "source": []
  }
 ],
 "metadata": {
  "kernelspec": {
   "display_name": "Python 3 (ipykernel)",
   "language": "python",
   "name": "python3"
  },
  "language_info": {
   "codemirror_mode": {
    "name": "ipython",
    "version": 3
   },
   "file_extension": ".py",
   "mimetype": "text/x-python",
   "name": "python",
   "nbconvert_exporter": "python",
   "pygments_lexer": "ipython3",
   "version": "3.11.5"
  }
 },
 "nbformat": 4,
 "nbformat_minor": 5
}
