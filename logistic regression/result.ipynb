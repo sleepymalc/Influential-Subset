{
 "cells": [
  {
   "cell_type": "code",
   "execution_count": 1,
   "metadata": {},
   "outputs": [],
   "source": [
    "import re\n",
    "import numpy as np\n",
    "\n",
    "targets = [\"probability\", \"test_loss\", \"avg_train_loss\", \"avg_abs_test_loss\"]\n",
    "target = targets[3]\n",
    "n = 50\n",
    "k = 5"
   ]
  },
  {
   "cell_type": "code",
   "execution_count": 2,
   "metadata": {},
   "outputs": [],
   "source": [
    "def extract_actual_ranks(file_content):\n",
    "    general_ranks = re.findall(r'Actual rank: (\\d+)', file_content)\n",
    "    result = {\n",
    "        \"IWLS\": int(general_ranks[0]),\n",
    "        \"Adaptive IWLS\": int(general_ranks[1]),\n",
    "        \"Margin-based\": min(int(general_ranks[2]), int(general_ranks[3])),\n",
    "        \"First-order\": int(general_ranks[4])\n",
    "    }\n",
    "    return result"
   ]
  },
  {
   "cell_type": "code",
   "execution_count": 3,
   "metadata": {},
   "outputs": [
    {
     "ename": "FileNotFoundError",
     "evalue": "[Errno 2] No such file or directory: 'results/target=avg_abs_test_loss/s=2_n=50_k=5_cov=2.0.txt'",
     "output_type": "error",
     "traceback": [
      "\u001b[0;31m---------------------------------------------------------------------------\u001b[0m",
      "\u001b[0;31mFileNotFoundError\u001b[0m                         Traceback (most recent call last)",
      "Cell \u001b[0;32mIn[3], line 12\u001b[0m\n\u001b[1;32m      9\u001b[0m \u001b[38;5;28;01mfor\u001b[39;00m cov_idx, cov \u001b[38;5;129;01min\u001b[39;00m \u001b[38;5;28menumerate\u001b[39m(covs):\n\u001b[1;32m     10\u001b[0m     file_path \u001b[38;5;241m=\u001b[39m \u001b[38;5;124mf\u001b[39m\u001b[38;5;124m'\u001b[39m\u001b[38;5;124mresults/target=\u001b[39m\u001b[38;5;132;01m{\u001b[39;00mtarget\u001b[38;5;132;01m}\u001b[39;00m\u001b[38;5;124m/s=\u001b[39m\u001b[38;5;132;01m{\u001b[39;00mseed\u001b[38;5;132;01m}\u001b[39;00m\u001b[38;5;124m_n=\u001b[39m\u001b[38;5;132;01m{\u001b[39;00mn\u001b[38;5;132;01m}\u001b[39;00m\u001b[38;5;124m_k=\u001b[39m\u001b[38;5;132;01m{\u001b[39;00mk\u001b[38;5;132;01m}\u001b[39;00m\u001b[38;5;124m_cov=\u001b[39m\u001b[38;5;132;01m{\u001b[39;00mcov\u001b[38;5;132;01m}\u001b[39;00m\u001b[38;5;124m.txt\u001b[39m\u001b[38;5;124m'\u001b[39m\n\u001b[0;32m---> 12\u001b[0m     \u001b[38;5;28;01mwith\u001b[39;00m \u001b[38;5;28;43mopen\u001b[39;49m\u001b[43m(\u001b[49m\u001b[43mfile_path\u001b[49m\u001b[43m,\u001b[49m\u001b[43m \u001b[49m\u001b[38;5;124;43m'\u001b[39;49m\u001b[38;5;124;43mr\u001b[39;49m\u001b[38;5;124;43m'\u001b[39;49m\u001b[43m)\u001b[49m \u001b[38;5;28;01mas\u001b[39;00m file:\n\u001b[1;32m     13\u001b[0m         file_content \u001b[38;5;241m=\u001b[39m file\u001b[38;5;241m.\u001b[39mread()\n\u001b[1;32m     14\u001b[0m         actual_ranks \u001b[38;5;241m=\u001b[39m extract_actual_ranks(file_content)\n",
      "File \u001b[0;32m~/miniconda3/envs/influence/lib/python3.9/site-packages/IPython/core/interactiveshell.py:310\u001b[0m, in \u001b[0;36m_modified_open\u001b[0;34m(file, *args, **kwargs)\u001b[0m\n\u001b[1;32m    303\u001b[0m \u001b[38;5;28;01mif\u001b[39;00m file \u001b[38;5;129;01min\u001b[39;00m {\u001b[38;5;241m0\u001b[39m, \u001b[38;5;241m1\u001b[39m, \u001b[38;5;241m2\u001b[39m}:\n\u001b[1;32m    304\u001b[0m     \u001b[38;5;28;01mraise\u001b[39;00m \u001b[38;5;167;01mValueError\u001b[39;00m(\n\u001b[1;32m    305\u001b[0m         \u001b[38;5;124mf\u001b[39m\u001b[38;5;124m\"\u001b[39m\u001b[38;5;124mIPython won\u001b[39m\u001b[38;5;124m'\u001b[39m\u001b[38;5;124mt let you open fd=\u001b[39m\u001b[38;5;132;01m{\u001b[39;00mfile\u001b[38;5;132;01m}\u001b[39;00m\u001b[38;5;124m by default \u001b[39m\u001b[38;5;124m\"\u001b[39m\n\u001b[1;32m    306\u001b[0m         \u001b[38;5;124m\"\u001b[39m\u001b[38;5;124mas it is likely to crash IPython. If you know what you are doing, \u001b[39m\u001b[38;5;124m\"\u001b[39m\n\u001b[1;32m    307\u001b[0m         \u001b[38;5;124m\"\u001b[39m\u001b[38;5;124myou can use builtins\u001b[39m\u001b[38;5;124m'\u001b[39m\u001b[38;5;124m open.\u001b[39m\u001b[38;5;124m\"\u001b[39m\n\u001b[1;32m    308\u001b[0m     )\n\u001b[0;32m--> 310\u001b[0m \u001b[38;5;28;01mreturn\u001b[39;00m \u001b[43mio_open\u001b[49m\u001b[43m(\u001b[49m\u001b[43mfile\u001b[49m\u001b[43m,\u001b[49m\u001b[43m \u001b[49m\u001b[38;5;241;43m*\u001b[39;49m\u001b[43margs\u001b[49m\u001b[43m,\u001b[49m\u001b[43m \u001b[49m\u001b[38;5;241;43m*\u001b[39;49m\u001b[38;5;241;43m*\u001b[39;49m\u001b[43mkwargs\u001b[49m\u001b[43m)\u001b[49m\n",
      "\u001b[0;31mFileNotFoundError\u001b[0m: [Errno 2] No such file or directory: 'results/target=avg_abs_test_loss/s=2_n=50_k=5_cov=2.0.txt'"
     ]
    }
   ],
   "source": [
    "seeds = [1, 21, 41, 61, 81, 2, 22, 42, 62, 82, 3, 23, 43, 63, 83, 4, 24, 44, 64, 84]\n",
    "covs = [0.5, 1.0, 2.0, 5.0]\n",
    "methods = [\"IWLS\", \"Adaptive IWLS\", \"Margin-based\", \"First-order\"]\n",
    "\n",
    "result_array = np.zeros((len(seeds), len(covs), len(methods)), dtype=int)\n",
    "\n",
    "# Process each file and populate the array\n",
    "for seed_idx, seed in enumerate(seeds):\n",
    "    for cov_idx, cov in enumerate(covs):\n",
    "        file_path = f'results/target={target}/s={seed}_n={n}_k={k}_cov={cov}.txt'\n",
    "\n",
    "        with open(file_path, 'r') as file:\n",
    "            file_content = file.read()\n",
    "            actual_ranks = extract_actual_ranks(file_content)\n",
    "\n",
    "            # Populate the array\n",
    "            for method_idx, method_name in enumerate(methods):\n",
    "                result_array[seed_idx, cov_idx, method_idx] = actual_ranks.get(method_name, 0)  # Default to 0 if method not found\n",
    "\n",
    "# Save result_array to a binary file\n",
    "np.save(f'results/target={target}/result.npy', result_array)\n",
    "\n",
    "# Load result_array back from the file\n",
    "result_array = np.load(f'results/target={target}/result.npy')"
   ]
  },
  {
   "cell_type": "code",
   "execution_count": null,
   "metadata": {},
   "outputs": [],
   "source": [
    "def Borda_count(result_array, weights=[4, 3, 2, 1]):\n",
    "    num_seeds, num_covs, num_methods = result_array.shape\n",
    "\n",
    "    # Initialize weighted Borda count array\n",
    "    weighted_borda_count = np.zeros((num_seeds, num_covs, num_methods), dtype=int)\n",
    "\n",
    "    # Calculate weighted Borda count for each seed and covariance\n",
    "    for seed_idx in range(num_seeds):\n",
    "        for cov_idx in range(num_covs):\n",
    "            # Sort indices based on actual ranks for the current seed and covariance\n",
    "            sorted_indices = np.argsort(result_array[seed_idx, cov_idx])\n",
    "\n",
    "            # Assign weighted Borda count scores\n",
    "            for rank, method_idx in enumerate(sorted_indices):\n",
    "                weighted_borda_count[seed_idx, cov_idx, method_idx] = weights[rank]\n",
    "\n",
    "    # Sum weighted Borda count scores across seeds and covariances\n",
    "    total_weighted_borda_count = weighted_borda_count.sum(axis=(0, 1))\n",
    "\n",
    "    # Rank methods based on total weighted Borda count scores\n",
    "    ranked_methods_weighted = np.argsort(total_weighted_borda_count)[::-1]\n",
    "\n",
    "    # Display the ranking based on weighted Borda count scores\n",
    "    print(f\"\\nWeighted Borda Count Rankings (target={target}):\")\n",
    "    for rank, method_idx in enumerate(ranked_methods_weighted):\n",
    "        method_name = [\"IWLS\", \"Adaptive IWLS\", \"Margin-based\", \"First-order\"][method_idx]\n",
    "        print(f\"{rank + 1}. {method_name}: {total_weighted_borda_count[method_idx]}\")"
   ]
  },
  {
   "cell_type": "code",
   "execution_count": null,
   "metadata": {},
   "outputs": [
    {
     "name": "stdout",
     "output_type": "stream",
     "text": [
      "\n",
      "Weighted Borda Count Rankings (target=avg_train_loss):\n",
      "1. IWLS: 232\n",
      "2. Adaptive IWLS: 220\n",
      "3. Margin-based: 192\n",
      "4. First-order: 156\n"
     ]
    }
   ],
   "source": [
    "Borda_count(result_array)"
   ]
  },
  {
   "cell_type": "code",
   "execution_count": null,
   "metadata": {},
   "outputs": [],
   "source": [
    "def hitting_rate(result_array, rank_range=(1, 1)):\n",
    "    num_seeds, num_covs, num_methods = result_array.shape\n",
    "    total_samples = num_seeds * num_covs\n",
    "\n",
    "    hitting_rates = np.zeros(num_methods, dtype=float)\n",
    "\n",
    "    for method_idx in range(num_methods):\n",
    "        total_hits = 0\n",
    "        for seed_idx in range(num_seeds):\n",
    "            for cov_idx in range(num_covs):\n",
    "                rank = result_array[seed_idx, cov_idx, method_idx]\n",
    "\n",
    "                if rank_range[1] == rank_range[0]:\n",
    "                    total_hits += 1 if rank == rank_range[0] else 0\n",
    "                else:\n",
    "                    total_hits += 1 if rank in range(rank_range[0], rank_range[1] + 1) else 0\n",
    "\n",
    "        hitting_rates[method_idx] = total_hits / total_samples\n",
    "\n",
    "    ranked_methods_hitting = np.argsort(hitting_rates)[::-1]\n",
    "\n",
    "    # Display hitting rates\n",
    "    print(f\"\\nHitting Rates (range={rank_range}, target={target}):\")\n",
    "    for rank, method_idx in enumerate(ranked_methods_hitting):\n",
    "        method_name = [\"IWLS\", \"Adaptive IWLS\", \"Margin-based\", \"First-order\"][method_idx]\n",
    "        print(f\"{rank + 1}. {method_name}: {hitting_rates[method_idx]}\")"
   ]
  },
  {
   "cell_type": "code",
   "execution_count": null,
   "metadata": {},
   "outputs": [
    {
     "name": "stdout",
     "output_type": "stream",
     "text": [
      "\n",
      "Hitting Rates (range=(1, 10), target=avg_train_loss):\n",
      "1. First-order: 0.0\n",
      "2. Margin-based: 0.0\n",
      "3. Adaptive IWLS: 0.0\n",
      "4. IWLS: 0.0\n"
     ]
    }
   ],
   "source": [
    "hitting_rate(result_array, rank_range=(1, 10))"
   ]
  },
  {
   "cell_type": "code",
   "execution_count": null,
   "metadata": {},
   "outputs": [],
   "source": []
  }
 ],
 "metadata": {
  "kernelspec": {
   "display_name": "influence",
   "language": "python",
   "name": "python3"
  },
  "language_info": {
   "codemirror_mode": {
    "name": "ipython",
    "version": 3
   },
   "file_extension": ".py",
   "mimetype": "text/x-python",
   "name": "python",
   "nbconvert_exporter": "python",
   "pygments_lexer": "ipython3",
   "version": "3.9.18"
  }
 },
 "nbformat": 4,
 "nbformat_minor": 2
}
