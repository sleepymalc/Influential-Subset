{
 "cells": [
  {
   "cell_type": "code",
   "execution_count": 1,
   "metadata": {},
   "outputs": [],
   "source": [
    "import re\n",
    "import numpy as np\n",
    "\n",
    "targets = [\"probability\", \"test_loss\", \"avg_train_loss\", \"avg_abs_test_loss\"]\n",
    "target = targets[3]\n",
    "n = 50\n",
    "k = 5"
   ]
  },
  {
   "cell_type": "code",
   "execution_count": 2,
   "metadata": {},
   "outputs": [],
   "source": [
    "def extract_actual_ranks(file_content):\n",
    "    general_ranks = re.findall(r'Actual rank: (\\d+)', file_content)\n",
    "    result = {\n",
    "        \"IWLS\": int(general_ranks[0]),\n",
    "        \"Adaptive IWLS\": int(general_ranks[1]),\n",
    "        \"Margin-based\": min(int(general_ranks[2]), int(general_ranks[3])),\n",
    "        \"First-order\": int(general_ranks[4])\n",
    "    }\n",
    "    return result"
   ]
  },
  {
   "cell_type": "code",
   "execution_count": 3,
   "metadata": {},
   "outputs": [],
   "source": [
    "seeds = [1, 21, 41, 61, 81, 2, 22, 42, 62, 82, 3, 23, 43, 63, 83, 4, 24, 44, 64, 84]\n",
    "covs = [0.5, 1.0, 2.0, 5.0]\n",
    "methods = [\"IWLS\", \"Adaptive IWLS\", \"Margin-based\", \"First-order\"]\n",
    "\n",
    "result_array = np.zeros((len(seeds), len(covs), len(methods)), dtype=int)\n",
    "\n",
    "# Process each file and populate the array\n",
    "for seed_idx, seed in enumerate(seeds):\n",
    "    for cov_idx, cov in enumerate(covs):\n",
    "        file_path = f'results/target={target}/s={seed}_n={n}_k={k}_cov={cov}.txt'\n",
    "        with open(file_path, 'r') as file:\n",
    "            file_content = file.read()\n",
    "            actual_ranks = extract_actual_ranks(file_content)\n",
    "\n",
    "            # Populate the array\n",
    "            for method_idx, method_name in enumerate(methods):\n",
    "                result_array[seed_idx, cov_idx, method_idx] = actual_ranks.get(method_name, 0)  # Default to 0 if method not found\n",
    "\n",
    "# Save result_array to a binary file\n",
    "np.save(f'results/target={target}/result.npy', result_array)\n",
    "\n",
    "# Load result_array back from the file\n",
    "result_array = np.load(f'results/target={target}/result.npy')"
   ]
  },
  {
   "cell_type": "code",
   "execution_count": 4,
   "metadata": {},
   "outputs": [],
   "source": [
    "def Borda_count(result_array, weights=[4, 3, 2, 1]):\n",
    "    num_seeds, num_covs, num_methods = result_array.shape\n",
    "\n",
    "    # Initialize weighted Borda count array\n",
    "    weighted_borda_count = np.zeros((num_seeds, num_covs, num_methods), dtype=int)\n",
    "\n",
    "    # Calculate weighted Borda count for each seed and covariance\n",
    "    for seed_idx in range(num_seeds):\n",
    "        for cov_idx in range(num_covs):\n",
    "            # Sort indices based on actual ranks for the current seed and covariance\n",
    "            sorted_indices = np.argsort(result_array[seed_idx, cov_idx])\n",
    "\n",
    "            # Assign weighted Borda count scores\n",
    "            for rank, method_idx in enumerate(sorted_indices):\n",
    "                weighted_borda_count[seed_idx, cov_idx, method_idx] = weights[rank]\n",
    "\n",
    "    # Sum weighted Borda count scores across seeds and covariances\n",
    "    total_weighted_borda_count = weighted_borda_count.sum(axis=(0, 1))\n",
    "\n",
    "    # Rank methods based on total weighted Borda count scores\n",
    "    ranked_methods_weighted = np.argsort(total_weighted_borda_count)[::-1]\n",
    "\n",
    "    # Display the ranking based on weighted Borda count scores\n",
    "    print(f\"\\nWeighted Borda Count Rankings (target={target}):\")\n",
    "    for rank, method_idx in enumerate(ranked_methods_weighted):\n",
    "        method_name = [\"IWLS\", \"Adaptive IWLS\", \"Margin-based\", \"First-order\"][method_idx]\n",
    "        print(f\"{rank + 1}. {method_name}: {total_weighted_borda_count[method_idx]}\")"
   ]
  },
  {
   "cell_type": "code",
   "execution_count": 5,
   "metadata": {},
   "outputs": [
    {
     "name": "stdout",
     "output_type": "stream",
     "text": [
      "\n",
      "Weighted Borda Count Rankings (target=avg_abs_test_loss):\n",
      "1. Adaptive IWLS: 282\n",
      "2. Margin-based: 207\n",
      "3. IWLS: 176\n",
      "4. First-order: 135\n"
     ]
    }
   ],
   "source": [
    "Borda_count(result_array)"
   ]
  },
  {
   "cell_type": "code",
   "execution_count": 6,
   "metadata": {},
   "outputs": [],
   "source": [
    "def hitting_rate(result_array, rank_range=(1, 1)):\n",
    "    num_seeds, num_covs, num_methods = result_array.shape\n",
    "    total_samples = num_seeds * num_covs\n",
    "\n",
    "    hitting_rates = np.zeros(num_methods, dtype=float)\n",
    "\n",
    "    for method_idx in range(num_methods):\n",
    "        total_hits = 0\n",
    "        for seed_idx in range(num_seeds):\n",
    "            for cov_idx in range(num_covs):\n",
    "                rank = result_array[seed_idx, cov_idx, method_idx]\n",
    "\n",
    "                if rank_range[1] == rank_range[0]:\n",
    "                    total_hits += 1 if rank == rank_range[0] else 0\n",
    "                else:\n",
    "                    total_hits += 1 if rank in range(rank_range[0], rank_range[1] + 1) else 0\n",
    "\n",
    "        hitting_rates[method_idx] = total_hits / total_samples\n",
    "\n",
    "    ranked_methods_hitting = np.argsort(hitting_rates)[::-1]\n",
    "\n",
    "    # Display hitting rates\n",
    "    print(f\"\\nHitting Rates (range={rank_range}, target={target}):\")\n",
    "    for rank, method_idx in enumerate(ranked_methods_hitting):\n",
    "        method_name = [\"IWLS\", \"Adaptive IWLS\", \"Margin-based\", \"First-order\"][method_idx]\n",
    "        print(f\"{rank + 1}. {method_name}: {hitting_rates[method_idx]}\")"
   ]
  },
  {
   "cell_type": "code",
   "execution_count": 7,
   "metadata": {},
   "outputs": [
    {
     "name": "stdout",
     "output_type": "stream",
     "text": [
      "\n",
      "Hitting Rates (range=(1, 100), target=avg_abs_test_loss):\n",
      "1. Adaptive IWLS: 0.6625\n",
      "2. Margin-based: 0.625\n",
      "3. First-order: 0.3875\n",
      "4. IWLS: 0.3\n"
     ]
    }
   ],
   "source": [
    "hitting_rate(result_array, rank_range=(1, 100))"
   ]
  },
  {
   "cell_type": "code",
   "execution_count": null,
   "metadata": {},
   "outputs": [],
   "source": []
  }
 ],
 "metadata": {
  "kernelspec": {
   "display_name": "influence",
   "language": "python",
   "name": "python3"
  },
  "language_info": {
   "codemirror_mode": {
    "name": "ipython",
    "version": 3
   },
   "file_extension": ".py",
   "mimetype": "text/x-python",
   "name": "python",
   "nbconvert_exporter": "python",
   "pygments_lexer": "ipython3",
   "version": "3.9.18"
  }
 },
 "nbformat": 4,
 "nbformat_minor": 2
}
