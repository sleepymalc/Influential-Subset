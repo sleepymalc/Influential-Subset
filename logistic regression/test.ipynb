{
 "cells": [
  {
   "cell_type": "code",
   "execution_count": 1,
   "metadata": {},
   "outputs": [],
   "source": [
    "import warnings\n",
    "warnings.filterwarnings(\"ignore\")\n",
    "from joblib import Parallel, delayed\n",
    "import numpy as np\n",
    "from sklearn.linear_model import LogisticRegression\n",
    "from sklearn.metrics import log_loss\n",
    "from itertools import combinations\n",
    "\n",
    "from utility import data_generation\n",
    "from target import *\n",
    "from IWLS import IWLS, adaptive_IWLS\n",
    "from first_order import first_order\n",
    "from margin import margin\n",
    "from actual import actual"
   ]
  },
  {
   "cell_type": "code",
   "execution_count": 2,
   "metadata": {},
   "outputs": [],
   "source": [
    "# general parameters\n",
    "n, k = 50, 1\n",
    "job_n = 1\n",
    "\n",
    "seed = 23\n",
    "cov = 2.0\n",
    "\n",
    "targets = [\"probability\", \"test_loss\", \"avg_train_loss\", \"avg_abs_test_loss\"]\n",
    "target = targets[3]\n",
    "np.random.seed(seed)\n",
    "\n",
    "X_train, y_train, X_test, y_test = data_generation(n, cov, target=target)"
   ]
  },
  {
   "cell_type": "code",
   "execution_count": 3,
   "metadata": {},
   "outputs": [
    {
     "name": "stdout",
     "output_type": "stream",
     "text": [
      "Best:  [48]\n",
      "IWLS:  [48]\n",
      "adaptive IWLS:  [48]\n",
      "first order:  [48]\n"
     ]
    }
   ],
   "source": [
    "_, best = actual(X_train, y_train, X_test, y_test, k=k, job_n=job_n, target=target)\n",
    "IWLS_best = IWLS(X_train, y_train, X_test, y_test, target=target)\n",
    "adaptive_IWLS_best_k = adaptive_IWLS(X_train, y_train, X_test, y_test, k=k, target=target)\n",
    "ind_n, ind_p = margin(X_train, y_train)\n",
    "FO_best = first_order(X_train, y_train, X_test, y_test, target=target)\n",
    "\n",
    "print(\"Best: \", best[k-1])\n",
    "print(\"IWLS: \", IWLS_best[:k])\n",
    "print(\"adaptive IWLS: \", adaptive_IWLS_best_k)\n",
    "print(\"first order: \", FO_best[:k])"
   ]
  }
 ],
 "metadata": {
  "kernelspec": {
   "display_name": "influence",
   "language": "python",
   "name": "python3"
  },
  "language_info": {
   "codemirror_mode": {
    "name": "ipython",
    "version": 3
   },
   "file_extension": ".py",
   "mimetype": "text/x-python",
   "name": "python",
   "nbconvert_exporter": "python",
   "pygments_lexer": "ipython3",
   "version": "3.9.18"
  }
 },
 "nbformat": 4,
 "nbformat_minor": 2
}
