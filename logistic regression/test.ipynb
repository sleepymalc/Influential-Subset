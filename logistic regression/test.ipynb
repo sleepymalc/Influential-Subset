{
 "cells": [
  {
   "cell_type": "code",
   "execution_count": 1,
   "metadata": {},
   "outputs": [],
   "source": [
    "import warnings\n",
    "warnings.filterwarnings(\"ignore\")\n",
    "from joblib import Parallel, delayed\n",
    "import numpy as np\n",
    "from sklearn.linear_model import LogisticRegression\n",
    "from sklearn.metrics import log_loss\n",
    "from itertools import combinations\n",
    "\n",
    "from IWLS import IWLS, adaptive_IWLS\n",
    "from first_order import first_order\n",
    "from margin import margin"
   ]
  },
  {
   "cell_type": "code",
   "execution_count": 2,
   "metadata": {},
   "outputs": [],
   "source": [
    "# general parameters\n",
    "n, k = 50, 5\n",
    "job_n = 50\n",
    "\n",
    "seed = 23\n",
    "cov = 2.0\n",
    "\n",
    "target = \"test_loss\"\n",
    "np.random.seed(seed)\n",
    "\n",
    "# generate data\n",
    "mean_n = np.array([-1, 0])\n",
    "mean_p = np.array([1, 0])\n",
    "covariance = np.eye(2) * cov\n",
    "x_n = np.random.multivariate_normal(mean_n, covariance, int(n/2))\n",
    "x_p = np.random.multivariate_normal(mean_p, covariance, int(n/2))\n",
    "\n",
    "y_n = np.zeros(int(n/2)) # 0 labels\n",
    "y_p = np.ones(int(n/2))  # 1 labels\n",
    "\n",
    "X_train = np.vstack((x_n, x_p))\n",
    "y_train = np.hstack((y_n, y_p))\n",
    "\n",
    "# Choose mean_n or mean_p w.p. 1/2\n",
    "if np.random.rand() < 0.5:\n",
    "\tx_test = np.random.multivariate_normal(mean_n, covariance)\n",
    "\ty_test = 0\n",
    "else:\n",
    "\tx_test = np.random.multivariate_normal(mean_p, covariance)\n",
    "\ty_test = 1"
   ]
  },
  {
   "cell_type": "code",
   "execution_count": 3,
   "metadata": {},
   "outputs": [
    {
     "name": "stdout",
     "output_type": "stream",
     "text": [
      "[48 34 42 15 27 16 47 49 39 18 43  9  4 28 37 30  7 41 44 31 38  1 26 45\n",
      " 33 25 35 17  5 24 10 13 46  3 40 32  8 23 29 20 11 22 36 21  6  0 19 14\n",
      " 12  2]\n"
     ]
    }
   ],
   "source": [
    "IWLS_best = IWLS(X_train, y_train, x_test, y_test, target=target)\n",
    "adaptive_IWLS_best_k = adaptive_IWLS(X_train, y_train, x_test, y_test, k=k, target=target)\n",
    "ind_n, ind_p = margin(X_train, y_train)\n",
    "FO_best = first_order(X_train, y_train, x_test, y_test, target=target)\n",
    "\n",
    "print(IWLS_best)"
   ]
  },
  {
   "cell_type": "code",
   "execution_count": null,
   "metadata": {},
   "outputs": [],
   "source": []
  }
 ],
 "metadata": {
  "kernelspec": {
   "display_name": "influence",
   "language": "python",
   "name": "python3"
  },
  "language_info": {
   "codemirror_mode": {
    "name": "ipython",
    "version": 3
   },
   "file_extension": ".py",
   "mimetype": "text/x-python",
   "name": "python",
   "nbconvert_exporter": "python",
   "pygments_lexer": "ipython3",
   "version": "3.9.18"
  }
 },
 "nbformat": 4,
 "nbformat_minor": 2
}
