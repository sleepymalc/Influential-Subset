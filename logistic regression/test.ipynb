{
 "cells": [
  {
   "cell_type": "code",
   "execution_count": 1,
   "metadata": {},
   "outputs": [],
   "source": [
    "import warnings\n",
    "warnings.filterwarnings(\"ignore\")\n",
    "from joblib import Parallel, delayed\n",
    "import numpy as np\n",
    "from sklearn.linear_model import LogisticRegression\n",
    "from sklearn.metrics import log_loss\n",
    "from itertools import combinations\n",
    "\n",
    "from utility import data_generation\n",
    "from target import *\n",
    "from IWLS import IWLS, adaptive_IWLS\n",
    "from first_order import first_order\n",
    "from margin import margin"
   ]
  },
  {
   "cell_type": "code",
   "execution_count": 2,
   "metadata": {},
   "outputs": [],
   "source": [
    "# general parameters\n",
    "n, k = 50, 5\n",
    "job_n = 50\n",
    "\n",
    "seed = 23\n",
    "cov = 2.0\n",
    "\n",
    "targets = [\"probability\", \"test_loss\", \"avg_train_loss\", \"avg_abs_test_loss\"]\n",
    "target = targets[0]\n",
    "np.random.seed(seed)\n",
    "\n",
    "X_train, y_train, X_test, y_test = data_generation(n, cov, target=target)"
   ]
  },
  {
   "cell_type": "code",
   "execution_count": 3,
   "metadata": {},
   "outputs": [
    {
     "data": {
      "text/plain": [
       "array([[ 4.36416509e-03, -1.25904139e-02,  1.01057518e-02],\n",
       "       [ 1.15964929e-02, -2.50926193e-02, -2.62088575e-02],\n",
       "       [ 2.08497378e-01, -1.41708167e-01,  6.89671193e-02],\n",
       "       [ 8.63612984e-03, -2.02048720e-02, -1.54080490e-02],\n",
       "       [ 1.87834579e-04, -8.22674243e-04, -8.85303047e-05],\n",
       "       [ 2.13784821e-01, -1.09926858e-01, -6.13098153e-01],\n",
       "       [ 1.94703589e-01, -1.58517786e-01,  4.41454450e-01],\n",
       "       [ 1.16985074e-03, -4.08876436e-03,  9.37234732e-04],\n",
       "       [ 3.63794818e-01, -8.14523728e-02, -3.16476838e-01],\n",
       "       [ 2.24636924e-01, -1.21851462e-01, -3.50467557e-01],\n",
       "       [ 3.67530345e-01, -1.33325704e-01,  8.40697215e-01],\n",
       "       [ 4.72790193e-02, -7.01704398e-02, -4.16879395e-02],\n",
       "       [ 6.95774848e-04, -2.67829413e-03,  1.84091145e-03],\n",
       "       [ 9.56341042e-01,  1.57710407e+00, -6.78204399e-01],\n",
       "       [ 1.48057565e-01, -1.29193243e-01, -1.96705876e-02],\n",
       "       [ 8.24114206e-01,  7.61494784e-01, -1.82960986e+00],\n",
       "       [ 3.96819939e-01, -1.72305107e-02, -1.26597681e+00],\n",
       "       [ 4.28438090e-01, -3.24102298e-02, -4.51890179e-01],\n",
       "       [ 8.41317174e-01,  7.13496345e-01,  6.53570322e-01],\n",
       "       [ 2.28098159e-02, -4.25575083e-02, -2.37690168e-02],\n",
       "       [ 6.38589894e-03, -1.71812225e-02,  1.51905946e-02],\n",
       "       [ 7.02397244e-01,  3.55929526e-01, -6.01530374e-01],\n",
       "       [ 3.76698486e-03, -1.08712559e-02,  2.64265884e-03],\n",
       "       [ 1.18078264e-01, -1.15875056e-01, -8.10241989e-02],\n",
       "       [ 1.70462506e-01, -1.42539111e-01,  1.60334762e-01],\n",
       "       [-1.30194810e-01, -1.25305178e-01, -1.14749168e-01],\n",
       "       [-1.28207646e-01, -1.27529278e-01, -4.93115612e-02],\n",
       "       [-3.75464453e-01, -8.78613458e-02, -4.21494107e-01],\n",
       "       [-9.26909496e-02, -1.13141866e-01,  3.99281129e-02],\n",
       "       [-8.44575424e-02, -1.07134096e-01,  2.77181679e-02],\n",
       "       [-1.91910795e-01, -1.40247027e-01, -1.42590725e-01],\n",
       "       [-1.66653332e-02, -3.72418787e-02,  3.84390643e-02],\n",
       "       [-2.00732125e-01, -1.46780208e-01, -2.30765473e-02],\n",
       "       [-7.54351337e-01,  4.40311864e-01, -4.66579102e-01],\n",
       "       [-2.37095070e-01, -1.56983360e-01,  1.80191690e-01],\n",
       "       [-9.58582480e-01,  1.43934920e+00,  1.95731600e+00],\n",
       "       [-8.48851057e-02, -9.61034036e-02, -2.15242249e-01],\n",
       "       [-3.82022266e-01, -1.56708439e-01,  1.13306057e+00],\n",
       "       [-4.91165733e-03, -1.35173537e-02, -1.20110481e-03],\n",
       "       [-6.53022785e-03, -1.73519252e-02,  5.80502958e-03],\n",
       "       [-1.33185844e-02, -2.95874075e-02, -6.58608178e-03],\n",
       "       [-8.28599466e-01,  6.34417788e-01,  4.13876970e-01],\n",
       "       [-1.07215767e-01, -1.25978184e-01,  1.33073067e-01],\n",
       "       [-5.96182608e-03, -1.60336933e-02,  3.37544285e-03],\n",
       "       [-1.34947977e-02, -3.04110216e-02,  4.58753401e-03],\n",
       "       [-2.29177055e-02, -4.40492038e-02, -1.84370611e-02],\n",
       "       [-9.66351644e-01,  1.63504464e+00,  3.32941683e-01],\n",
       "       [-2.04846395e-02, -4.18053275e-02,  9.70287282e-03],\n",
       "       [-1.95858635e-03, -6.17539386e-03, -3.62524097e-03],\n",
       "       [-5.47639279e-01,  4.77537517e-02, -1.46493423e-01]])"
      ]
     },
     "execution_count": 3,
     "metadata": {},
     "output_type": "execute_result"
    }
   ],
   "source": [
    "target_phi(X_train, y_train, X_test, y_test, target=target)"
   ]
  },
  {
   "cell_type": "code",
   "execution_count": 4,
   "metadata": {},
   "outputs": [
    {
     "name": "stdout",
     "output_type": "stream",
     "text": [
      "IWLS:  [48 15 49 34 23]\n",
      "adaptive IWLS:  [48 15 49 34 23]\n",
      "first order:  [48 15 49 34 23]\n"
     ]
    }
   ],
   "source": [
    "IWLS_best = IWLS(X_train, y_train, X_test, y_test, target=target)\n",
    "adaptive_IWLS_best_k = adaptive_IWLS(X_train, y_train, X_test, y_test, k=k, target=target)\n",
    "ind_n, ind_p = margin(X_train, y_train)\n",
    "FO_best = first_order(X_train, y_train, X_test, y_test, target=target)\n",
    "\n",
    "print(\"IWLS: \", IWLS_best[:k])\n",
    "print(\"adaptive IWLS: \", adaptive_IWLS_best_k)\n",
    "print(\"first order: \", FO_best[:k])"
   ]
  }
 ],
 "metadata": {
  "kernelspec": {
   "display_name": "influence",
   "language": "python",
   "name": "python3"
  },
  "language_info": {
   "codemirror_mode": {
    "name": "ipython",
    "version": 3
   },
   "file_extension": ".py",
   "mimetype": "text/x-python",
   "name": "python",
   "nbconvert_exporter": "python",
   "pygments_lexer": "ipython3",
   "version": "3.9.18"
  }
 },
 "nbformat": 4,
 "nbformat_minor": 2
}
