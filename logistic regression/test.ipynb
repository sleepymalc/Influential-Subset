{
 "cells": [
  {
   "cell_type": "code",
   "execution_count": 1,
   "metadata": {},
   "outputs": [],
   "source": [
    "import warnings\n",
    "warnings.filterwarnings(\"ignore\")\n",
    "\n",
    "import numpy as np\n",
    "from sklearn.linear_model import LogisticRegression"
   ]
  },
  {
   "cell_type": "code",
   "execution_count": 2,
   "metadata": {},
   "outputs": [],
   "source": [
    "# general parameters\n",
    "n, k = 50, 5\n",
    "job_n = 50\n",
    "\n",
    "seed = 64\n",
    "cov = 0.5\n",
    "\n",
    "target = \"train_loss\"\n",
    "np.random.seed(seed)\n",
    "\n",
    "# generate data\n",
    "mean_n = np.array([-1, 0])\n",
    "mean_p = np.array([1, 0])\n",
    "covariance = np.eye(2) * cov\n",
    "x_n = np.random.multivariate_normal(mean_n, covariance, int(n/2))\n",
    "x_p = np.random.multivariate_normal(mean_p, covariance, int(n/2))\n",
    "\n",
    "y_n = np.zeros(int(n/2)) # 0 labels\n",
    "y_p = np.ones(int(n/2))  # 1 labels\n",
    "\n",
    "X_train = np.vstack((x_n, x_p))\n",
    "y_train = np.hstack((y_n, y_p))\n",
    "\n",
    "# Choose mean_n or mean_p w.p. 1/2\n",
    "if np.random.rand() < 0.5:\n",
    "\tx_test = np.random.multivariate_normal(mean_n, covariance)\n",
    "\ty_test = 0\n",
    "else:\n",
    "\tx_test = np.random.multivariate_normal(mean_p, covariance)\n",
    "\ty_test = 1\n",
    "\n",
    "logistic_classifier = LogisticRegression(penalty=None).fit(X_train, y_train)"
   ]
  },
  {
   "cell_type": "code",
   "execution_count": 3,
   "metadata": {},
   "outputs": [],
   "source": [
    "def WLS_influence(X, y, coef, W, phi, target=\"probability\"):\n",
    "    n = X.shape[0]\n",
    "    influences = np.zeros(n)\n",
    " \n",
    "    N = np.dot(W * X.T, X)\n",
    "    N_inv = np.linalg.inv(N)\n",
    "    r = W * (np.dot(X, coef) - y)\n",
    "    \n",
    "    param_influences = N_inv @ X.T * r\n",
    "\n",
    "    if target == \"probability\":\n",
    "        influences = (phi @ param_influences) / (1 - np.diag(np.diag(W) @ X @ N_inv @ X.T))    \n",
    "    elif target == \"train_loss\":\n",
    "        influences = np.sum((phi @ param_influences) / (1 - np.diag(np.diag(W) @ X @ N_inv @ X.T)), axis=0)\n",
    "    elif target == \"test_loss\":\n",
    "        influences = (phi @ param_influences) / (1 - np.diag(np.diag(W) @ X @ N_inv @ X.T))\n",
    "    \n",
    "    return influences\n",
    "\n",
    "def IWLS(X_train, y_train, x_test, y_test, target=\"probability\"):\n",
    "    n = X_train.shape[0]\n",
    "\n",
    "    lr = LogisticRegression(penalty=None).fit(X_train, y_train)\n",
    "    coefficients = np.concatenate((np.array([lr.intercept_[0]]), lr.coef_[0]))\n",
    "    p = lr.predict_proba(X_train)[:, 1]\n",
    "    \n",
    "    W = p * (1 - p)\n",
    "    X_train_bar = np.hstack((np.ones((X_train.shape[0], 1)), X_train))\n",
    "    x_test_bar = np.hstack((1, x_test))\n",
    "    y = np.dot(X_train_bar, coefficients) + (y_train - p) / W\n",
    "    \n",
    "    # Calculate phi\n",
    "    if target == \"probability\":\n",
    "        sigma = lr.predict_proba(x_test.reshape(1, -1))[0][1]\n",
    "        phi = (1 - sigma) * sigma * x_test_bar\n",
    "    elif target == \"train_loss\":\n",
    "        sigma_train = lr.predict_proba(X_train)[:, 1]\n",
    "        grad_loss_train = (sigma_train - y_train) * X_train_bar.T\n",
    "        phi = grad_loss_train.T\n",
    "    elif target == \"test_loss\":\n",
    "        sigma = lr.predict_proba(x_test.reshape(1, -1))[0][1]\n",
    "        grad_loss_test = (sigma - y_test) * x_test_bar\n",
    "        phi = grad_loss_test.T\n",
    "\n",
    "    influences = WLS_influence(X_train_bar, y, coefficients, W, phi, target=target)  \n",
    "\n",
    "    IWLS_best = np.argsort(influences)[-n:][::-1]\n",
    " \n",
    "    return IWLS_best"
   ]
  },
  {
   "cell_type": "code",
   "execution_count": 4,
   "metadata": {},
   "outputs": [
    {
     "name": "stdout",
     "output_type": "stream",
     "text": [
      "IWLS_best:  [43 34 18 35 42]\n"
     ]
    }
   ],
   "source": [
    "IWLS_best = IWLS(X_train, y_train, x_test, y_test, target=target)[:k]\n",
    "print(\"IWLS_best: \", IWLS_best)"
   ]
  },
  {
   "cell_type": "code",
   "execution_count": 5,
   "metadata": {},
   "outputs": [],
   "source": [
    "# Calculate adaptive influences TODO: Currently the edge case (when k ~= n) is not handled\n",
    "def adaptive_IWLS(X_train, y_train, x_test, y_test, k=5, target=\"probability\"):\n",
    "    n = X_train.shape[0]\n",
    "    \n",
    "    lr = LogisticRegression(penalty=None).fit(X_train, y_train)\n",
    "    coefficients = np.concatenate((np.array([lr.intercept_[0]]), lr.coef_[0]))\n",
    "    p = lr.predict_proba(X_train)[:, 1]\n",
    "\n",
    "    X_train_bar = np.hstack((np.ones((n, 1)), X_train))\n",
    "    x_test_bar = np.hstack((1, x_test))\n",
    "    X_train_bar_with_index = np.hstack((X_train_bar, np.arange(n).reshape(-1, 1)))\n",
    "    adaptive_IWLS_best_k = np.zeros(k, dtype=int)\n",
    "\n",
    "        \n",
    "    for i in range(k):\n",
    "        W = p * (1 - p)\n",
    "        X = X_train_bar_with_index[:, :-1] # without index\n",
    "        y = np.dot(X, coefficients) + (y_train - p) / W\n",
    "        \n",
    "        # Calculate phi adaptively\n",
    "        if target == \"probability\":\n",
    "            sigma = lr.predict_proba(x_test.reshape(1, -1))[0][1]\n",
    "            phi = (1 - sigma) * sigma * x_test_bar\n",
    "        elif target == \"train_loss\":\n",
    "            sigma_train = lr.predict_proba(X_train)[:, 1]\n",
    "            grad_loss_train = (sigma_train - y_train) * X_train_bar.T\n",
    "            phi = grad_loss_train.T\n",
    "        elif target == \"test_loss\":\n",
    "            sigma = lr.predict_proba(x_test.reshape(1, -1))[0][1]\n",
    "            grad_loss_test = (sigma - y_test) * x_test_bar\n",
    "            phi = grad_loss_test.T\n",
    "            \n",
    "        # Calculate influences\n",
    "        influences = WLS_influence(X, y, coefficients, W, phi, target=target)\n",
    "          \n",
    "        print_size = k * 2\n",
    "        top_indices = np.argsort(influences)[-(print_size):][::-1]\n",
    "        \n",
    "        actual_top_indices = X_train_bar_with_index[:, -1][top_indices].astype(int)\n",
    "        adaptive_IWLS_best_k[i] = actual_top_indices[0]\n",
    "\n",
    "        # Remove the most influential data points\n",
    "        X = np.delete(X, top_indices[0], axis=0)\n",
    "        X_train = np.delete(X_train, top_indices[0], axis=0)\n",
    "        X_train_bar = np.delete(X_train_bar, top_indices[0], axis=0)\n",
    "        X_train_bar_with_index = np.delete(X_train_bar_with_index, top_indices[0], axis=0)\n",
    "        y_train = np.delete(y_train, top_indices[0], axis=0)\n",
    "        \n",
    "        \n",
    "        # # IWLS update\n",
    "        # X_weighted = X.T * W\n",
    "        # Hessian = np.dot(X_weighted, X)\n",
    "        # gradient = np.dot(X.T, y_train - p)\n",
    "        # coefficients += np.linalg.solve(Hessian, gradient)\n",
    "        # p = sigmoid(np.dot(X, coefficients))\n",
    "\n",
    "        # Train to full convergence\n",
    "        lr = LogisticRegression(penalty=None).fit(X_train_bar_with_index[:, 1:-1], y_train)\n",
    "        coefficients = np.concatenate((np.array([lr.intercept_[0]]), lr.coef_[0]))\n",
    "        p = lr.predict_proba(X_train)[:, 1]\n",
    "    return adaptive_IWLS_best_k"
   ]
  },
  {
   "cell_type": "code",
   "execution_count": 6,
   "metadata": {},
   "outputs": [
    {
     "name": "stdout",
     "output_type": "stream",
     "text": [
      "Adaptive_IWLS_best:  [43  0 34 49 42]\n"
     ]
    }
   ],
   "source": [
    "adaptive_IWLS_best = adaptive_IWLS(X_train, y_train, x_test, y_test, k=k, target=target)\n",
    "print(\"Adaptive_IWLS_best: \", adaptive_IWLS_best)"
   ]
  },
  {
   "cell_type": "code",
   "execution_count": null,
   "metadata": {},
   "outputs": [],
   "source": []
  }
 ],
 "metadata": {
  "kernelspec": {
   "display_name": "influence",
   "language": "python",
   "name": "python3"
  },
  "language_info": {
   "codemirror_mode": {
    "name": "ipython",
    "version": 3
   },
   "file_extension": ".py",
   "mimetype": "text/x-python",
   "name": "python",
   "nbconvert_exporter": "python",
   "pygments_lexer": "ipython3",
   "version": "3.9.18"
  }
 },
 "nbformat": 4,
 "nbformat_minor": 2
}
