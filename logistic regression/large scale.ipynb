{
 "cells": [
  {
   "cell_type": "code",
   "execution_count": 1,
   "metadata": {},
   "outputs": [],
   "source": [
    "import os\n",
    "os.environ[\"PYTHONWARNINGS\"] = \"ignore\"\n",
    "\n",
    "import numpy as np\n",
    "from joblib import Parallel, delayed\n",
    "from sklearn.datasets import make_spd_matrix\n",
    "import matplotlib.pyplot as plt\n",
    "\n",
    "from actual import actual_effect\n",
    "from IWLS import IWLS, adaptive_IWLS\n",
    "from first_order import first_order, adaptive_first_order\n",
    "from margin import margin\n",
    "\n",
    "from target import target_value\n",
    "from utility import data_generation"
   ]
  },
  {
   "cell_type": "code",
   "execution_count": 2,
   "metadata": {},
   "outputs": [],
   "source": [
    "# general parameters\n",
    "n = 5000\n",
    "d = 20\n",
    "k = 50\n",
    "isSkewed = True\n",
    "\n",
    "seeds = range(0, 40)\n",
    "covs = [0.5, 1.0, 2.0, 2.5, 3.0, 4.5, 5.0]\n",
    "\n",
    "targets = [\"probability\", \"abs_probability\", \"test_loss\", \"abs_test_loss\", \"avg_abs_test_loss\", \"abs_avg_test_loss\"]\n",
    "\n",
    "methods = [\"IWLS\", \"Adaptive IWLS\", \"Margin-based\", \"First-order\", \"Adaptive First-order\"]\n",
    "num_methods, num_covs, num_seeds = len(methods), len(covs), len(seeds)"
   ]
  },
  {
   "cell_type": "code",
   "execution_count": 5,
   "metadata": {},
   "outputs": [],
   "source": [
    "def score_per_seed_cov(seed, cov, target):\n",
    "    X_train, y_train, X_test, y_test = data_generation(n, d, cov, seed, isSkewed=isSkewed, target=target)\n",
    "    \n",
    "    original_value = target_value(X_train, y_train, X_test, y_test, target=target)\n",
    "    \n",
    "    ind_n, ind_p = margin(X_train, y_train)\n",
    "\n",
    "    scores = np.array([\n",
    "        actual_effect(X_train, y_train, X_test, y_test, IWLS(X_train, y_train, X_test, y_test, target=target)[:k], original_value, target=target), \n",
    "        actual_effect(X_train, y_train, X_test, y_test, adaptive_IWLS(X_train, y_train, X_test, y_test, k=k, target=target), original_value, target=target),\n",
    "        max(actual_effect(X_train, y_train, X_test, y_test, ind_n[:k], original_value, target=target), actual_effect(X_train, y_train, X_test, y_test, ind_p[:k], original_value, target=target)),\n",
    "        actual_effect(X_train, y_train, X_test, y_test, first_order(X_train, y_train, X_test, y_test, target=target)[:k], original_value, target=target),\n",
    "        actual_effect(X_train, y_train, X_test, y_test, adaptive_first_order(X_train, y_train, X_test, y_test, k=k, target=target), original_value, target=target)\n",
    "    ])\n",
    "\n",
    "    return scores"
   ]
  },
  {
   "cell_type": "code",
   "execution_count": 6,
   "metadata": {},
   "outputs": [],
   "source": [
    "# ranks.shape = (num_methods, num_experiments)\n",
    "def Borda_count(ranks, weights=[5, 4, 3, 2, 1]):\n",
    "    num_methods, num_experiments = ranks.shape\n",
    "\n",
    "    weighted_borda_count = np.zeros((num_methods, num_experiments), dtype=int)\n",
    "\n",
    "    # Calculate weighted Borda count for each seed and covariance\n",
    "    for experiment_idx in range(num_experiments):\n",
    "        # Sort indices based on actual ranks for the current experiment\n",
    "        # tie-handling. ref: https://stackoverflow.com/questions/39059371/can-numpys-argsort-give-equal-element-the-same-rank\n",
    "        def rankmin(x):\n",
    "            u, inv, counts = np.unique(x, return_inverse=True, return_counts=True)\n",
    "            csum = np.zeros_like(counts)\n",
    "            csum[1:] = counts[:-1].cumsum()\n",
    "            return csum[inv]\n",
    "\n",
    "        sorted_indices = rankmin(-1 * ranks[:, experiment_idx])\n",
    "\n",
    "        # Assign weighted Borda count scores\n",
    "        for method_idx, rank in enumerate(sorted_indices):\n",
    "            weighted_borda_count[method_idx, experiment_idx] = weights[rank]\n",
    "            \n",
    "    total_weighted_borda_count = weighted_borda_count.sum(axis=1)\n",
    "\n",
    "    return total_weighted_borda_count"
   ]
  },
  {
   "cell_type": "code",
   "execution_count": 7,
   "metadata": {},
   "outputs": [
    {
     "name": "stdout",
     "output_type": "stream",
     "text": [
      "Target: probability\n",
      "Target: abs_probability\n",
      "Target: test_loss\n",
      "Target: abs_test_loss\n",
      "Target: avg_abs_test_loss\n",
      "Target: abs_avg_test_loss\n"
     ]
    }
   ],
   "source": [
    "fig, axs = plt.subplots(2, 3, figsize=(15, 10))  # Create a 2x3 grid of subplots\n",
    "\n",
    "for target_idx, target in enumerate(targets):\n",
    "    print(f\"Target: {target}\")\n",
    "    rank_array = np.zeros((num_seeds, num_covs, num_methods), dtype=int)\n",
    "\n",
    "    scores_array = np.array(Parallel(n_jobs=50)(delayed(score_per_seed_cov)(seed, cov, target) for seed in seeds for cov in covs))\n",
    "    scores_array = scores_array.reshape((num_seeds, num_covs, -1))\n",
    "    \n",
    "    scores_method_cov_seed = scores_array.swapaxes(0, 2) # method, cov, seed\n",
    "    scores_cov_method_seed = scores_method_cov_seed.swapaxes(0, 1) # cov, method, seed\n",
    "    \n",
    "    Borda_result = np.zeros((num_covs, num_methods), dtype=float)\n",
    "    \n",
    "    Borda_result = np.array(Parallel(n_jobs=50)(delayed(Borda_count)(scores_cov_method_seed[cov_idx]) for cov_idx in range(num_covs)))\n",
    "\n",
    "    # Plot in the corresponding subplot\n",
    "    row_idx, col_idx = divmod(target_idx, 3)  # Calculate subplot index\n",
    "    for method_idx, method_name in enumerate(methods):\n",
    "        axs[row_idx, col_idx].plot(covs, Borda_result[:, method_idx], label=method_name)\n",
    "        \n",
    "    axs[row_idx, col_idx].set_title(f'Target={target}')\n",
    "    axs[row_idx, col_idx].set_xlabel('Covariance')\n",
    "    axs[row_idx, col_idx].set_ylabel('Borda Count')\n",
    "    axs[row_idx, col_idx].legend(methods)\n",
    "    \n",
    "    axs[row_idx, col_idx].set_xticks(covs)\n",
    "\n",
    "plt.tight_layout(rect=[0, 0.03, 1, 0.95])\n",
    "\n",
    "plt.suptitle(f'n={n} d={d} k={k}', fontsize=16)\n",
    "\n",
    "plt.show()"
   ]
  },
  {
   "cell_type": "code",
   "execution_count": null,
   "metadata": {},
   "outputs": [],
   "source": []
  }
 ],
 "metadata": {
  "kernelspec": {
   "display_name": "base",
   "language": "python",
   "name": "python3"
  },
  "language_info": {
   "codemirror_mode": {
    "name": "ipython",
    "version": 3
   },
   "file_extension": ".py",
   "mimetype": "text/x-python",
   "name": "python",
   "nbconvert_exporter": "python",
   "pygments_lexer": "ipython3",
   "version": "3.9.18"
  }
 },
 "nbformat": 4,
 "nbformat_minor": 2
}
