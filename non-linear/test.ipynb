{
 "cells": [
  {
   "cell_type": "markdown",
   "metadata": {},
   "source": [
    "# MISS meets TRAK\n",
    "\n",
    "MISS for non-linear model: linearizing as TRAK\n",
    "\n",
    "> The target function is assumed to be the raw logit, i.e., $\\phi(x_{\\text{test}}) = \\theta^\\top x_{\\text{test}} + b$."
   ]
  },
  {
   "cell_type": "code",
   "execution_count": 2,
   "metadata": {},
   "outputs": [
    {
     "name": "stdout",
     "output_type": "stream",
     "text": [
      "Using device: cuda\n",
      "Using device: cuda\n"
     ]
    }
   ],
   "source": [
    "from TRAK.MISS_trak import MISS_TRAK\n",
    "from IF.MISS_IF import MISS_IF\n",
    "from model_train import MLP, SubsetSamper, MNISTModelOutput\n",
    "import torch\n",
    "from torchvision import datasets, transforms\n",
    "from torch.utils.data import DataLoader\n",
    "from TRAK.projector import CudaProjector, ProjectionType, BasicProjector\n",
    "from TRAK.grad_calculator import count_parameters, grad_calculator, out_to_loss_grad_calculator\n",
    "from tqdm import tqdm\n",
    "\n",
    "# First, check if CUDA is available\n",
    "device = torch.device(\"cuda\" if torch.cuda.is_available() else \"cpu\")\n",
    "print(\"Using device:\", device)"
   ]
  },
  {
   "cell_type": "code",
   "execution_count": 7,
   "metadata": {},
   "outputs": [],
   "source": [
    "seed=0\n",
    "ensemble_size=5\n",
    "k=5"
   ]
  },
  {
   "cell_type": "code",
   "execution_count": 3,
   "metadata": {},
   "outputs": [],
   "source": [
    "# Load MNIST data\n",
    "transform = transforms.Compose([transforms.ToTensor(), transforms.Normalize((0.5,), (0.5,))])\n",
    "train_dataset = datasets.MNIST(root='./data', train=True, download=True, transform=transform)\n",
    "test_dataset = datasets.MNIST(root='./data', train=False, download=True, transform=transform)\n",
    "\n",
    "sampler_train = SubsetSamper([i for i in range(5000)])\n",
    "sampler_test = SubsetSamper([i for i in range(3)])\n",
    "\n",
    "train_loader = DataLoader(train_dataset, batch_size=1, sampler=sampler_train)\n",
    "test_loader = DataLoader(test_dataset, batch_size=1, sampler=sampler_test)\n",
    "\n",
    "checkpoint_files = [f\"./checkpoint/seed_{0}_ensemble_{i}.pt\" for i in range(ensemble_size)]\n",
    "\n",
    "from TRAK.MISS_trak import MISS_TRAK\n",
    "\n",
    "trak = MISS_TRAK(model=MLP().to(device),\n",
    "                    model_checkpoints=checkpoint_files,\n",
    "                    train_loader=train_loader,\n",
    "                    test_loader=test_loader,\n",
    "                    model_output_class=MNISTModelOutput,\n",
    "                    device=device)\n"
   ]
  },
  {
   "cell_type": "code",
   "execution_count": 4,
   "metadata": {},
   "outputs": [
    {
     "name": "stderr",
     "output_type": "stream",
     "text": [
      "  0%|          | 0/1 [00:00<?, ?it/s]"
     ]
    },
    {
     "name": "stdout",
     "output_type": "stream",
     "text": [
      "MLP(\n",
      "  (flatten): Flatten(start_dim=1, end_dim=-1)\n",
      "  (layers): ModuleList(\n",
      "    (0): Linear(in_features=784, out_features=128, bias=True)\n",
      "    (1): Linear(in_features=128, out_features=10, bias=True)\n",
      "  )\n",
      "  (relu): ReLU()\n",
      ")\n",
      "#Parameters: 101770\n"
     ]
    },
    {
     "name": "stderr",
     "output_type": "stream",
     "text": [
      "100%|██████████| 5000/5000 [02:04<00:00, 40.23it/s]\n",
      "100%|██████████| 5000/5000 [00:16<00:00, 305.33it/s]\n",
      "100%|██████████| 3/3 [00:00<00:00, 39.66it/s]\n",
      "100%|██████████| 1/1 [02:20<00:00, 140.81s/it]\n"
     ]
    },
    {
     "name": "stdout",
     "output_type": "stream",
     "text": [
      "tensor([1088], device='cuda:0')\n",
      "tensor([3717], device='cuda:0')\n",
      "tensor([1460], device='cuda:0')\n",
      "tensor([2184], device='cuda:0')\n",
      "tensor([1412], device='cuda:0')\n",
      "tensor([444], device='cuda:0')\n",
      "tensor([1412], device='cuda:0')\n",
      "tensor([370], device='cuda:0')\n",
      "tensor([1918], device='cuda:0')\n"
     ]
    },
    {
     "name": "stderr",
     "output_type": "stream",
     "text": [
      "  0%|          | 0/1 [00:00<?, ?it/s]"
     ]
    },
    {
     "name": "stdout",
     "output_type": "stream",
     "text": [
      "MLP(\n",
      "  (flatten): Flatten(start_dim=1, end_dim=-1)\n",
      "  (layers): ModuleList(\n",
      "    (0): Linear(in_features=784, out_features=128, bias=True)\n",
      "    (1): Linear(in_features=128, out_features=10, bias=True)\n",
      "  )\n",
      "  (relu): ReLU()\n",
      ")\n",
      "#Parameters: 101770\n"
     ]
    },
    {
     "name": "stderr",
     "output_type": "stream",
     "text": [
      "100%|██████████| 5000/5000 [02:19<00:00, 35.72it/s]\n",
      "100%|██████████| 5000/5000 [00:16<00:00, 309.77it/s]\n",
      "100%|██████████| 3/3 [00:00<00:00, 40.77it/s]\n",
      "100%|██████████| 1/1 [02:36<00:00, 156.24s/it]"
     ]
    },
    {
     "name": "stdout",
     "output_type": "stream",
     "text": [
      "torch.Size([3, 5000])\n",
      "tensor([1088, 3718, 1461], device='cuda:0')\n",
      "tensor([2184, 1412,  444], device='cuda:0')\n",
      "tensor([1412,  370, 1920], device='cuda:0')\n"
     ]
    },
    {
     "name": "stderr",
     "output_type": "stream",
     "text": [
      "\n"
     ]
    }
   ],
   "source": [
    "adaptive_MIS=trak.adaptive_most_k(3)\n",
    "MIS=trak.most_k(3)"
   ]
  },
  {
   "cell_type": "code",
   "execution_count": 8,
   "metadata": {},
   "outputs": [
    {
     "name": "stdout",
     "output_type": "stream",
     "text": [
      "tensor([2676, 1604, 1744, 2980,  991], dtype=torch.int32)\n",
      "tensor([2980, 1604, 3692, 2676,  966], dtype=torch.int32)\n"
     ]
    }
   ],
   "source": [
    "\n",
    "# for k in [1, 2, 5, 10]:\n",
    "TRAK_result = torch.load(f\"./TRAK/results/seed_{seed}_k_{k}_ensemble_{ensemble_size}.pt\")\n",
    "adaptive_TRAK_result = torch.load(f\"./TRAK/results/seed_{seed}_k_{k}_ensemble_{ensemble_size}_adaptive.pt\")\n",
    "print(TRAK_result[0])\n",
    "print(adaptive_TRAK_result[0])"
   ]
  },
  {
   "cell_type": "code",
   "execution_count": null,
   "metadata": {},
   "outputs": [],
   "source": []
  }
 ],
 "metadata": {
  "kernelspec": {
   "display_name": "base",
   "language": "python",
   "name": "python3"
  },
  "language_info": {
   "codemirror_mode": {
    "name": "ipython",
    "version": 3
   },
   "file_extension": ".py",
   "mimetype": "text/x-python",
   "name": "python",
   "nbconvert_exporter": "python",
   "pygments_lexer": "ipython3",
   "version": "3.9.18"
  }
 },
 "nbformat": 4,
 "nbformat_minor": 2
}
