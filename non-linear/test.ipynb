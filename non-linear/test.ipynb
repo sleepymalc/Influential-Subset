{
 "cells": [
  {
   "cell_type": "markdown",
   "metadata": {},
   "source": [
    "# MISS meets TRAK\n",
    "\n",
    "MISS for non-linear model: linearizing as TRAK\n",
    "\n",
    "> The target function is assumed to be the raw logit, i.e., $\\phi(x_{\\text{test}}) = \\theta^\\top x_{\\text{test}} + b$."
   ]
  },
  {
   "cell_type": "code",
   "execution_count": 1,
   "metadata": {},
   "outputs": [
    {
     "name": "stderr",
     "output_type": "stream",
     "text": [
      "/home/pbb/miniconda3/envs/influence/lib/python3.9/site-packages/tqdm/auto.py:21: TqdmWarning: IProgress not found. Please update jupyter and ipywidgets. See https://ipywidgets.readthedocs.io/en/stable/user_install.html\n",
      "  from .autonotebook import tqdm as notebook_tqdm\n"
     ]
    },
    {
     "name": "stdout",
     "output_type": "stream",
     "text": [
      "Using device: cuda\n"
     ]
    }
   ],
   "source": [
    "import torch\n",
    "from MISS_IF import MISS_IF\n",
    "from model_train import MLP, MNISTModelOutput\n",
    "from utlis.data import data_generation"
   ]
  },
  {
   "cell_type": "code",
   "execution_count": 2,
   "metadata": {},
   "outputs": [
    {
     "name": "stdout",
     "output_type": "stream",
     "text": [
      "Using device: cuda\n",
      "Start TRAK greedy\n",
      "tensor([[3010, 2014,  500, 3933, 4280, 1618,  212, 3456, 1982, 4334],\n",
      "        [2410, 2676, 4322, 3134, 4800,  588, 3268, 2324, 1920, 1079],\n",
      "        [4476, 1079, 1120, 1375,  444, 2108, 4258, 2208, 1293, 1586]],\n",
      "       dtype=torch.int32)\n"
     ]
    },
    {
     "name": "stderr",
     "output_type": "stream",
     "text": [
      "  0%|          | 0/3 [00:00<?, ?it/s]"
     ]
    },
    {
     "name": "stdout",
     "output_type": "stream",
     "text": [
      "Start TRAK greedy\n",
      "Start TRAK greedy\n"
     ]
    },
    {
     "name": "stderr",
     "output_type": "stream",
     "text": [
      " 33%|███▎      | 1/3 [05:21<10:42, 321.20s/it]"
     ]
    },
    {
     "name": "stdout",
     "output_type": "stream",
     "text": [
      "Start TRAK greedy\n",
      "Start TRAK greedy\n"
     ]
    },
    {
     "name": "stderr",
     "output_type": "stream",
     "text": [
      " 67%|██████▋   | 2/3 [10:39<05:19, 319.22s/it]"
     ]
    },
    {
     "name": "stdout",
     "output_type": "stream",
     "text": [
      "Start TRAK greedy\n",
      "Start TRAK greedy\n"
     ]
    },
    {
     "name": "stderr",
     "output_type": "stream",
     "text": [
      "100%|██████████| 3/3 [16:01<00:00, 320.59s/it]"
     ]
    },
    {
     "name": "stdout",
     "output_type": "stream",
     "text": [
      "tensor([[3010, 2014,  500, 3933, 4280, 2098, 4762, 2953, 4050, 4866],\n",
      "        [2410, 2676, 4322, 3134, 4800, 2324,  670,  346, 2044,   70],\n",
      "        [4476, 1079, 1120, 1375,  444, 3350, 3662,  180, 3692,  418]],\n",
      "       dtype=torch.int32)\n"
     ]
    },
    {
     "name": "stderr",
     "output_type": "stream",
     "text": [
      "\n"
     ]
    }
   ],
   "source": [
    "device = torch.device(\"cuda\" if torch.cuda.is_available() else \"cpu\")\n",
    "print(\"Using device:\", device)\n",
    "\n",
    "torch.manual_seed(0)\n",
    "\n",
    "train_loader, test_loader = data_generation(list(range(5000)), list(range(3)), mode='MISS')\n",
    "\n",
    "checkpoint_files = [f\"./checkpoint/seed_{0}_ensemble_{i}.pt\" for i in range(5)]\n",
    "\n",
    "# IF\n",
    "IF = MISS_IF(model=MLP().to(device),\n",
    "                model_checkpoints=checkpoint_files,\n",
    "                train_loader=train_loader,\n",
    "                test_loader=test_loader,\n",
    "                model_output_class=MNISTModelOutput,\n",
    "                device=device)\n",
    "\n",
    "# Retrain the model without the most influential samples for every test point\n",
    "MISS = IF.most_k(10)\n",
    "print(MISS)\n",
    "MISS = IF.adaptive_most_k(10, step_size=5)\n",
    "print(MISS)\n"
   ]
  },
  {
   "cell_type": "code",
   "execution_count": 3,
   "metadata": {},
   "outputs": [
    {
     "data": {
      "text/plain": [
       "0"
      ]
     },
     "execution_count": 3,
     "metadata": {},
     "output_type": "execute_result"
    }
   ],
   "source": [
    "list(range(10))[0]"
   ]
  },
  {
   "cell_type": "code",
   "execution_count": null,
   "metadata": {},
   "outputs": [],
   "source": []
  }
 ],
 "metadata": {
  "kernelspec": {
   "display_name": "base",
   "language": "python",
   "name": "python3"
  },
  "language_info": {
   "codemirror_mode": {
    "name": "ipython",
    "version": 3
   },
   "file_extension": ".py",
   "mimetype": "text/x-python",
   "name": "python",
   "nbconvert_exporter": "python",
   "pygments_lexer": "ipython3",
   "version": "3.9.18"
  }
 },
 "nbformat": 4,
 "nbformat_minor": 2
}
