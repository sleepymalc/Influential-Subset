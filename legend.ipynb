{
 "cells": [
  {
   "cell_type": "markdown",
   "metadata": {},
   "source": [
    "# Created Legends for the Experiments"
   ]
  },
  {
   "cell_type": "code",
   "execution_count": 1,
   "metadata": {},
   "outputs": [],
   "source": [
    "import matplotlib.pyplot as plt\n",
    "import matplotlib.patches as mpatches\n",
    "from matplotlib.legend_handler import HandlerPatch\n",
    "import seaborn as sns\n",
    "import matplotlib.lines as mlines"
   ]
  },
  {
   "cell_type": "markdown",
   "metadata": {},
   "source": [
    "## Full Set"
   ]
  },
  {
   "cell_type": "code",
   "execution_count": null,
   "metadata": {},
   "outputs": [
    {
     "data": {
      "image/png": "[encoded data removed]",
      "text/plain": [
       "<Figure size 1000x100 with 1 Axes>"
      ]
     },
     "metadata": {},
     "output_type": "display_data"
    }
   ],
   "source": [
    "palette = sns.color_palette(\"bright\")\n",
    "colors = [palette[9], palette[1], palette[8], palette[4]]\n",
    "\n",
    "labels = [\n",
    "    'LAGS',\n",
    "    'Adaptive LAGS',\n",
    "    'ZAMinfluence',\n",
    "    'Adaptive ZAMinfluence'\n",
    "]\n",
    "\n",
    "# Create a figure and axis\n",
    "fig, ax = plt.subplots(figsize=(10, 1))\n",
    "\n",
    "# Turn off axis and set transparent background\n",
    "ax.set_axis_off()\n",
    "fig.patch.set_visible(False)\n",
    "\n",
    "# Create a list of rectangle markers\n",
    "markers = [mlines.Line2D([], [], color=color, marker='_', linestyle='-', linewidth=3) for color in colors]\n",
    "\n",
    "# Create the legend\n",
    "legend = ax.legend(markers, labels, loc='center', ncol=len(labels), frameon=False,\n",
    "                #    handler_map={mpatches.Rectangle: HandlerPatch(patch_func=None)},\n",
    "                   handlelength=0.8, handletextpad=0.4, bbox_to_anchor=(0.5, 0.5),\n",
    "                    bbox_transform=fig.transFigure\n",
    "                   )\n",
    "\n",
    "# Adjust the legend layout\n",
    "plt.setp(legend.get_texts(), ha='center', va='center')\n",
    "\n",
    "# Display the legend\n",
    "plt.savefig('./Figures/legend.png', format='png', bbox_inches='tight', dpi=300)"
   ]
  },
  {
   "cell_type": "markdown",
   "metadata": {},
   "source": [
    "## Partial Set"
   ]
  },
  {
   "cell_type": "code",
   "execution_count": 3,
   "metadata": {},
   "outputs": [
    {
     "data": {
      "image/png": "[encoded data removed]",
      "text/plain": [
       "<Figure size 1000x100 with 1 Axes>"
      ]
     },
     "metadata": {},
     "output_type": "display_data"
    }
   ],
   "source": [
    "palette = sns.color_palette(\"bright\")\n",
    "colors = [palette[9], palette[1]]\n",
    "\n",
    "labels = [\n",
    "    'LAGS',\n",
    "    'Adaptive LAGS'\n",
    "]\n",
    "\n",
    "# Create a figure and axis\n",
    "fig, ax = plt.subplots(figsize=(10, 1))\n",
    "\n",
    "# Turn off axis and set transparent background\n",
    "ax.set_axis_off()\n",
    "fig.patch.set_visible(False)\n",
    "\n",
    "# Create a list of rectangle markers\n",
    "markers = [mlines.Line2D([], [], color=color, marker='_', linestyle='-', linewidth=3) for color in colors]\n",
    "\n",
    "# Create the legend\n",
    "legend = ax.legend(markers, labels, loc='center', ncol=len(labels), frameon=False,\n",
    "                   handler_map={mpatches.Rectangle: HandlerPatch(patch_func=None)},\n",
    "                   handlelength=0.8, handletextpad=0.4, bbox_to_anchor=(0.5, 0.5))\n",
    "\n",
    "# Adjust the legend layout\n",
    "plt.setp(legend.get_texts(), ha='center', va='center')\n",
    "\n",
    "# Display the legend\n",
    "plt.savefig('./Figures/legend_partial.png', format='png', bbox_inches='tight', dpi=300)"
   ]
  }
 ],
 "metadata": {
  "kernelspec": {
   "display_name": "base",
   "language": "python",
   "name": "python3"
  },
  "language_info": {
   "codemirror_mode": {
    "name": "ipython",
    "version": 3
   },
   "file_extension": ".py",
   "mimetype": "text/x-python",
   "name": "python",
   "nbconvert_exporter": "python",
   "pygments_lexer": "ipython3",
   "version": "3.9.undefined"
  }
 },
 "nbformat": 4,
 "nbformat_minor": 2
}
