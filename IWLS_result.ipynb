{
 "cells": [
  {
   "cell_type": "code",
   "execution_count": 1,
   "metadata": {},
   "outputs": [],
   "source": [
    "import re\n",
    "import numpy as np\n",
    "\n",
    "target=\"probability\"\n",
    "n=50\n",
    "k=5"
   ]
  },
  {
   "cell_type": "code",
   "execution_count": 2,
   "metadata": {},
   "outputs": [
    {
     "name": "stdout",
     "output_type": "stream",
     "text": [
      "Actual ranks: {'IWLS': 10570, 'Adaptive IWLS': 32457, 'Margin-based': 9249, 'First-order': 10099}\n"
     ]
    }
   ],
   "source": [
    "def extract_actual_ranks(file_content):\n",
    "    result = {}\n",
    "    \n",
    "    # Find all Actual ranks without a specific method\n",
    "    general_ranks = re.findall(r'Actual rank: (\\d+)', file_content)\n",
    "    result[\"IWLS\"] = int(general_ranks[0])\n",
    "    result[\"Adaptive IWLS\"] = int(general_ranks[1])\n",
    "    result[\"Margin-based\"] = min(int(general_ranks[2]), int(general_ranks[3]))\n",
    "    result[\"First-order\"] = int(general_ranks[4])\n",
    "\n",
    "    return result\n",
    "\n",
    "with open(f'results/s={1}_n={n}_k={k}_cov={0.5}_target={target}.txt', 'r') as file:\n",
    "    file_content = file.read()\n",
    "\n",
    "    actual_ranks = extract_actual_ranks(file_content)\n",
    "    print(f'Actual ranks: {actual_ranks}')"
   ]
  },
  {
   "cell_type": "code",
   "execution_count": 7,
   "metadata": {},
   "outputs": [],
   "source": [
    "seeds = [1, 21, 41, 61, 81, 2, 22, 42, 62, 82, 3, 23, 43, 63, 83, 4, 24, 44, 64, 84]\n",
    "covs = [0.5, 1.0, 2.0, 5.0]\n",
    "methods = [\"IWLS\", \"Adaptive IWLS\", \"Margin-based\", \"First-order\"]\n",
    "\n",
    "\n",
    "result_array = np.zeros((len(seeds), len(covs), len(methods)), dtype=int)\n",
    "\n",
    "# Process each file and populate the array\n",
    "for seed_idx, seed in enumerate(seeds):\n",
    "    for cov_idx, cov in enumerate(covs):\n",
    "        file_path = f'results/s={seed}_n={n}_k={k}_cov={cov}_target={target}.txt'\n",
    "\n",
    "        with open(file_path, 'r') as file:\n",
    "            file_content = file.read()\n",
    "            actual_ranks = extract_actual_ranks(file_content)\n",
    "\n",
    "            # Populate the array\n",
    "            for method_idx, method_name in enumerate(methods):\n",
    "                result_array[seed_idx, cov_idx, method_idx] = actual_ranks.get(method_name, 0)  # Default to 0 if method not found\n",
    "\n",
    "# Save result_array to a binary file\n",
    "np.save('results/result.npy', result_array)"
   ]
  },
  {
   "cell_type": "code",
   "execution_count": 8,
   "metadata": {},
   "outputs": [],
   "source": [
    "# Load result_array back from the file\n",
    "result_array = np.load('results/result.npy')"
   ]
  },
  {
   "cell_type": "code",
   "execution_count": null,
   "metadata": {},
   "outputs": [],
   "source": [
    "# Borda count\n"
   ]
  }
 ],
 "metadata": {
  "kernelspec": {
   "display_name": "influence",
   "language": "python",
   "name": "python3"
  },
  "language_info": {
   "codemirror_mode": {
    "name": "ipython",
    "version": 3
   },
   "file_extension": ".py",
   "mimetype": "text/x-python",
   "name": "python",
   "nbconvert_exporter": "python",
   "pygments_lexer": "ipython3",
   "version": "3.9.18"
  }
 },
 "nbformat": 4,
 "nbformat_minor": 2
}
