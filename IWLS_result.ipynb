{
 "cells": [
  {
   "cell_type": "code",
   "execution_count": 1,
   "metadata": {},
   "outputs": [],
   "source": [
    "import re\n",
    "import numpy as np\n",
    "\n",
    "target=\"probability\"\n",
    "n=50\n",
    "k=5"
   ]
  },
  {
   "cell_type": "code",
   "execution_count": 11,
   "metadata": {},
   "outputs": [],
   "source": [
    "def extract_actual_ranks(file_content):\n",
    "    general_ranks = re.findall(r'Actual rank: (\\d+)', file_content)\n",
    "    result = {\n",
    "        \"IWLS\": int(general_ranks[0]),\n",
    "        \"Adaptive IWLS\": int(general_ranks[1]),\n",
    "        \"Margin-based\": min(int(general_ranks[2]), int(general_ranks[3])),\n",
    "        \"First-order\": int(general_ranks[4])\n",
    "    }\n",
    "    return result"
   ]
  },
  {
   "cell_type": "code",
   "execution_count": 12,
   "metadata": {},
   "outputs": [],
   "source": [
    "seeds = [1, 21, 41, 61, 81, 2, 22, 42, 62, 82, 3, 23, 43, 63, 83, 4, 24, 44, 64, 84]\n",
    "covs = [0.5, 1.0, 2.0, 5.0]\n",
    "methods = [\"IWLS\", \"Adaptive IWLS\", \"Margin-based\", \"First-order\"]\n",
    "\n",
    "result_array = np.zeros((len(seeds), len(covs), len(methods)), dtype=int)\n",
    "\n",
    "# Process each file and populate the array\n",
    "for seed_idx, seed in enumerate(seeds):\n",
    "    for cov_idx, cov in enumerate(covs):\n",
    "        file_path = f'results/s={seed}_n={n}_k={k}_cov={cov}_target={target}.txt'\n",
    "\n",
    "        with open(file_path, 'r') as file:\n",
    "            file_content = file.read()\n",
    "            actual_ranks = extract_actual_ranks(file_content)\n",
    "\n",
    "            # Populate the array\n",
    "            for method_idx, method_name in enumerate(methods):\n",
    "                result_array[seed_idx, cov_idx, method_idx] = actual_ranks.get(method_name, 0)  # Default to 0 if method not found\n",
    "\n",
    "# Save result_array to a binary file\n",
    "np.save('results/result.npy', result_array)"
   ]
  },
  {
   "cell_type": "code",
   "execution_count": 17,
   "metadata": {},
   "outputs": [
    {
     "name": "stdout",
     "output_type": "stream",
     "text": [
      "\n",
      "Weighted Borda Count Rankings:\n",
      "1. Adaptive IWLS: 269\n",
      "2. IWLS: 243\n",
      "3. Margin-based: 145\n",
      "4. First-order: 143\n"
     ]
    }
   ],
   "source": [
    "# Load result_array back from the file\n",
    "result_array = np.load('results/result.npy')\n",
    "\n",
    "# Define weights for each ranked position\n",
    "weights = [4, 3, 2, 1]  # You can adjust these weights based on your preferences\n",
    "\n",
    "num_seeds, num_covs, num_methods = result_array.shape\n",
    "\n",
    "# Initialize weighted Borda count array\n",
    "weighted_borda_count = np.zeros((num_seeds, num_covs, num_methods), dtype=int)\n",
    "\n",
    "# Calculate weighted Borda count for each seed and covariance\n",
    "for seed_idx in range(num_seeds):\n",
    "    for cov_idx in range(num_covs):\n",
    "        # Sort indices based on actual ranks for the current seed and covariance\n",
    "        sorted_indices = np.argsort(result_array[seed_idx, cov_idx])\n",
    "\n",
    "        # Assign weighted Borda count scores\n",
    "        for rank, method_idx in enumerate(sorted_indices):\n",
    "            weighted_borda_count[seed_idx, cov_idx, method_idx] = weights[rank]\n",
    "\n",
    "# Sum weighted Borda count scores across seeds and covariances\n",
    "total_weighted_borda_count = weighted_borda_count.sum(axis=(0, 1))\n",
    "\n",
    "# Rank methods based on total weighted Borda count scores\n",
    "ranked_methods_weighted = np.argsort(total_weighted_borda_count)[::-1]\n",
    "\n",
    "# Display the ranking based on weighted Borda count scores\n",
    "print(\"\\nWeighted Borda Count Rankings:\")\n",
    "for rank, method_idx in enumerate(ranked_methods_weighted):\n",
    "    method_name = [\"IWLS\", \"Adaptive IWLS\", \"Margin-based\", \"First-order\"][method_idx]\n",
    "    print(f\"{rank + 1}. {method_name}: {total_weighted_borda_count[method_idx]}\")"
   ]
  }
 ],
 "metadata": {
  "kernelspec": {
   "display_name": "influence",
   "language": "python",
   "name": "python3"
  },
  "language_info": {
   "codemirror_mode": {
    "name": "ipython",
    "version": 3
   },
   "file_extension": ".py",
   "mimetype": "text/x-python",
   "name": "python",
   "nbconvert_exporter": "python",
   "pygments_lexer": "ipython3",
   "version": "3.9.18"
  }
 },
 "nbformat": 4,
 "nbformat_minor": 2
}
