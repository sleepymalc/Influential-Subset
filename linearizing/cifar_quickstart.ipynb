{
 "cells": [
  {
   "cell_type": "markdown",
   "id": "930bbd33-c000-4c25-9237-336b58cde183",
   "metadata": {},
   "source": [
    "# Quickstart"
   ]
  },
  {
   "cell_type": "markdown",
   "id": "54b6fe38-f924-417e-a450-615fbf2c468b",
   "metadata": {
    "tags": []
   },
   "source": [
    "Check out the quickstart tutorial: https://trak.readthedocs.io/en/latest/quickstart.html.\n",
    "\n",
    "Use this notebook to follow along (it contains only the code from the quickstart tutorial, no comments/explanations)."
   ]
  },
  {
   "cell_type": "markdown",
   "id": "e881aa88-e373-44c9-a224-6efbdacc31ed",
   "metadata": {},
   "source": [
    "We ran this notebook on a 1xA100 80G GPU. Depending on your setup, you might need to reduce the batch sizes for training & computing TRAK."
   ]
  },
  {
   "cell_type": "markdown",
   "id": "d659eddc-aa63-4d7b-97b1-1af353ef02f5",
   "metadata": {},
   "source": [
    "If you just want to play around with (pre-computed) TRAK scores, check out this Colab notebook instead: https://colab.research.google.com/drive/1Mlpzno97qpI3UC1jpOATXEHPD-lzn9Wg?usp=sharing."
   ]
  },
  {
   "cell_type": "markdown",
   "id": "c5f060ac-ecb3-4129-9ea9-238b3fd7afaa",
   "metadata": {},
   "source": [
    "## Train and save model checkpoints"
   ]
  },
  {
   "cell_type": "code",
   "execution_count": 1,
   "id": "5ec6fa04-de0a-4e73-8b35-a4f08bf871c4",
   "metadata": {
    "tags": []
   },
   "outputs": [
    {
     "name": "stderr",
     "output_type": "stream",
     "text": [
      "/home/pbb/miniconda3/envs/influence/lib/python3.9/site-packages/tqdm/auto.py:21: TqdmWarning: IProgress not found. Please update jupyter and ipywidgets. See https://ipywidgets.readthedocs.io/en/stable/user_install.html\n",
      "  from .autonotebook import tqdm as notebook_tqdm\n"
     ]
    }
   ],
   "source": [
    "import os\n",
    "from pathlib import Path\n",
    "import wget\n",
    "from tqdm.auto import tqdm\n",
    "import numpy as np\n",
    "import torch\n",
    "from torch.cuda.amp import GradScaler, autocast\n",
    "from torch.nn import CrossEntropyLoss, Conv2d, BatchNorm2d\n",
    "from torch.optim import SGD, lr_scheduler\n",
    "import torchvision\n",
    "import warnings\n",
    "warnings.filterwarnings('ignore')"
   ]
  },
  {
   "cell_type": "code",
   "execution_count": 2,
   "id": "a16573fd-bdfc-48ad-a42e-a16f4fb40a51",
   "metadata": {
    "tags": []
   },
   "outputs": [],
   "source": [
    "# Resnet9\n",
    "class Mul(torch.nn.Module):\n",
    "    def __init__(self, weight):\n",
    "        super(Mul, self).__init__()\n",
    "        self.weight = weight\n",
    "    def forward(self, x): return x * self.weight\n",
    "\n",
    "\n",
    "class Flatten(torch.nn.Module):\n",
    "    def forward(self, x): return x.view(x.size(0), -1)\n",
    "\n",
    "\n",
    "class Residual(torch.nn.Module):\n",
    "    def __init__(self, module):\n",
    "        super(Residual, self).__init__()\n",
    "        self.module = module\n",
    "    def forward(self, x): return x + self.module(x)\n",
    "\n",
    "\n",
    "def construct_rn9(num_classes=10):\n",
    "    def conv_bn(channels_in, channels_out, kernel_size=3, stride=1, padding=1, groups=1):\n",
    "        return torch.nn.Sequential(\n",
    "                torch.nn.Conv2d(channels_in, channels_out, kernel_size=kernel_size,\n",
    "                            stride=stride, padding=padding, groups=groups, bias=False),\n",
    "                torch.nn.BatchNorm2d(channels_out),\n",
    "                torch.nn.ReLU(inplace=True)\n",
    "        )\n",
    "    model = torch.nn.Sequential(\n",
    "        conv_bn(3, 64, kernel_size=3, stride=1, padding=1),\n",
    "        conv_bn(64, 128, kernel_size=5, stride=2, padding=2),\n",
    "        Residual(torch.nn.Sequential(conv_bn(128, 128), conv_bn(128, 128))),\n",
    "        conv_bn(128, 256, kernel_size=3, stride=1, padding=1),\n",
    "        torch.nn.MaxPool2d(2),\n",
    "        Residual(torch.nn.Sequential(conv_bn(256, 256), conv_bn(256, 256))),\n",
    "        conv_bn(256, 128, kernel_size=3, stride=1, padding=0),\n",
    "        torch.nn.AdaptiveMaxPool2d((1, 1)),\n",
    "        Flatten(),\n",
    "        torch.nn.Linear(128, num_classes, bias=False),\n",
    "        Mul(0.2)\n",
    "    )\n",
    "    return model"
   ]
  },
  {
   "cell_type": "code",
   "execution_count": 3,
   "id": "23be39c9-b4a5-4c8c-b665-c819151745df",
   "metadata": {
    "tags": []
   },
   "outputs": [],
   "source": [
    "def get_dataloader(batch_size=256, num_workers=8, split='train', shuffle=False, augment=True):\n",
    "    if augment:\n",
    "        transforms = torchvision.transforms.Compose(\n",
    "                        [torchvision.transforms.RandomHorizontalFlip(),\n",
    "                         torchvision.transforms.RandomAffine(0),\n",
    "                         torchvision.transforms.ToTensor(),\n",
    "                         torchvision.transforms.Normalize((0.4914, 0.4822, 0.4465),\n",
    "                                                          (0.2023, 0.1994, 0.201))])\n",
    "    else:\n",
    "        transforms = torchvision.transforms.Compose([\n",
    "                         torchvision.transforms.ToTensor(),\n",
    "                         torchvision.transforms.Normalize((0.4914, 0.4822, 0.4465),\n",
    "                                                          (0.2023, 0.1994, 0.201))])\n",
    "\n",
    "    is_train = (split == 'train')\n",
    "    dataset = torchvision.datasets.CIFAR10(root='/tmp/cifar/',\n",
    "                                           download=True,\n",
    "                                           train=is_train,\n",
    "                                           transform=transforms)\n",
    "\n",
    "    loader = torch.utils.data.DataLoader(dataset=dataset,\n",
    "                                         shuffle=shuffle,\n",
    "                                         batch_size=batch_size,\n",
    "                                         num_workers=num_workers)\n",
    "\n",
    "    return loader"
   ]
  },
  {
   "cell_type": "code",
   "execution_count": 4,
   "id": "f949d611-c408-4fe0-a00a-e68006e766fe",
   "metadata": {
    "tags": []
   },
   "outputs": [],
   "source": [
    "def train(model, loader, lr=0.4, epochs=24, momentum=0.9,\n",
    "          weight_decay=5e-4, lr_peak_epoch=5, label_smoothing=0.0, model_id=0):\n",
    "\n",
    "    opt = SGD(model.parameters(), lr=lr, momentum=momentum, weight_decay=weight_decay)\n",
    "    iters_per_epoch = len(loader)\n",
    "    # Cyclic LR with single triangle\n",
    "    lr_schedule = np.interp(np.arange((epochs+1) * iters_per_epoch),\n",
    "                            [0, lr_peak_epoch * iters_per_epoch, epochs * iters_per_epoch],\n",
    "                            [0, 1, 0])\n",
    "    scheduler = lr_scheduler.LambdaLR(opt, lr_schedule.__getitem__)\n",
    "    scaler = GradScaler()\n",
    "    loss_fn = CrossEntropyLoss(label_smoothing=label_smoothing)\n",
    "\n",
    "    for ep in range(epochs):\n",
    "        for it, (ims, labs) in enumerate(loader):\n",
    "            ims = ims.cuda()\n",
    "            labs = labs.cuda()\n",
    "            opt.zero_grad(set_to_none=True)\n",
    "            with autocast():\n",
    "                out = model(ims)\n",
    "                loss = loss_fn(out, labs)\n",
    "\n",
    "            scaler.scale(loss).backward()\n",
    "            scaler.step(opt)\n",
    "            scaler.update()\n",
    "            scheduler.step()\n",
    "        if ep in [23]:\n",
    "            torch.save(model.state_dict(), f'./checkpoints/sd_{model_id}_epoch_{ep}.pt')\n",
    "\n",
    "    return model"
   ]
  },
  {
   "cell_type": "code",
   "execution_count": 5,
   "id": "cfb400b1-9646-4352-a803-ae8cb1ee7b1a",
   "metadata": {
    "tags": []
   },
   "outputs": [
    {
     "name": "stdout",
     "output_type": "stream",
     "text": [
      "Files already downloaded and verified\n"
     ]
    },
    {
     "name": "stderr",
     "output_type": "stream",
     "text": [
      "Training models..: 100%|██████████| 1/1 [01:00<00:00, 60.82s/it]\n"
     ]
    }
   ],
   "source": [
    "os.makedirs('./checkpoints', exist_ok=True)\n",
    "loader_for_training = get_dataloader(batch_size=512, split='train', shuffle=True)\n",
    "\n",
    "# you can modify the for loop below to train more models\n",
    "for i in tqdm(range(1), desc='Training models..'):\n",
    "    model = construct_rn9().to(memory_format=torch.channels_last).cuda()\n",
    "    model = train(model, loader_for_training, model_id=i)"
   ]
  },
  {
   "cell_type": "markdown",
   "id": "437ba077-2fc5-4c5a-894b-c5a5377a3b03",
   "metadata": {},
   "source": [
    "### Make a list of checkpoints"
   ]
  },
  {
   "cell_type": "code",
   "execution_count": 6,
   "id": "73561d60-eb99-462a-9c1b-93fa6db800b7",
   "metadata": {
    "tags": []
   },
   "outputs": [],
   "source": [
    "ckpt_files = sorted(list(Path('./checkpoints').rglob('*.pt')))\n",
    "ckpts = [torch.load(ckpt, map_location='cpu') for ckpt in ckpt_files]"
   ]
  },
  {
   "cell_type": "markdown",
   "id": "c1542d0b-8dfc-4813-b117-8c23b2933a5f",
   "metadata": {},
   "source": [
    "### Check test accuracy"
   ]
  },
  {
   "cell_type": "code",
   "execution_count": 7,
   "id": "e5a11a39-e330-4aa4-97f8-bdf2512dbf83",
   "metadata": {
    "tags": []
   },
   "outputs": [],
   "source": [
    "model = construct_rn9().to(memory_format=torch.channels_last).cuda()\n",
    "model.load_state_dict(ckpts[-1])\n",
    "model = model.eval()"
   ]
  },
  {
   "cell_type": "code",
   "execution_count": 8,
   "id": "53e579e6-c1e4-4165-a81b-b49075a29656",
   "metadata": {
    "tags": []
   },
   "outputs": [
    {
     "name": "stdout",
     "output_type": "stream",
     "text": [
      "Files already downloaded and verified\n"
     ]
    },
    {
     "name": "stderr",
     "output_type": "stream",
     "text": [
      "100%|██████████| 40/40 [00:00<00:00, 67.04it/s]\n"
     ]
    },
    {
     "name": "stdout",
     "output_type": "stream",
     "text": [
      "Accuracy: 91.5%\n"
     ]
    }
   ],
   "source": [
    "loader = get_dataloader(split='val', augment=False)\n",
    "model.eval()\n",
    "\n",
    "with torch.no_grad():\n",
    "    total_correct, total_num = 0., 0.\n",
    "    for ims, labs in tqdm(loader):\n",
    "        ims = ims.cuda()\n",
    "        labs = labs.cuda()\n",
    "        with autocast():\n",
    "            out = model(ims)\n",
    "            total_correct += out.argmax(1).eq(labs).sum().cpu().item()\n",
    "            total_num += ims.shape[0]\n",
    "\n",
    "    print(f'Accuracy: {total_correct / total_num * 100:.1f}%')"
   ]
  },
  {
   "cell_type": "markdown",
   "id": "41ff92a8-1d9e-4e63-8a2b-63f97085d020",
   "metadata": {},
   "source": [
    "## Set up the TRAKer class"
   ]
  },
  {
   "cell_type": "code",
   "execution_count": 9,
   "id": "89886b24-27f2-4876-9e56-a7ed368fe3c0",
   "metadata": {
    "tags": []
   },
   "outputs": [
    {
     "name": "stdout",
     "output_type": "stream",
     "text": [
      "Files already downloaded and verified\n"
     ]
    }
   ],
   "source": [
    "batch_size = 128\n",
    "loader_train = get_dataloader(batch_size=batch_size, split='train')"
   ]
  },
  {
   "cell_type": "code",
   "execution_count": 10,
   "id": "c9804779-3229-47a2-84d8-771eb7568e1b",
   "metadata": {
    "tags": []
   },
   "outputs": [
    {
     "name": "stderr",
     "output_type": "stream",
     "text": [
      "ERROR:TRAK:Could not use CudaProjector.\n",
      "Reason: /home/pbb/miniconda3/envs/influence/lib/python3.9/site-packages/fast_jl.cpython-39-x86_64-linux-gnu.so: undefined symbol: _ZN2at4_ops5zeros4callEN3c108ArrayRefINS2_6SymIntEEENS2_8optionalINS2_10ScalarTypeEEENS6_INS2_6LayoutEEENS6_INS2_6DeviceEEENS6_IbEE\n",
      "ERROR:TRAK:Defaulting to BasicProjector.\n",
      "INFO:STORE:No existing model IDs in /home/pbb/Project/Influential-Subset/linearizing/trak_results.\n",
      "INFO:STORE:No existing TRAK scores in /home/pbb/Project/Influential-Subset/linearizing/trak_results.\n"
     ]
    }
   ],
   "source": [
    "from trak import TRAKer\n",
    "\n",
    "traker = TRAKer(model=model,\n",
    "                task='image_classification',\n",
    "                proj_dim=200,\n",
    "                train_set_size=len(loader_train.dataset))"
   ]
  },
  {
   "cell_type": "markdown",
   "id": "188a1582-b725-4fa7-94da-51b5bd62b216",
   "metadata": {},
   "source": [
    "## Compute TRAK features for train data"
   ]
  },
  {
   "cell_type": "code",
   "execution_count": 11,
   "id": "48bbce69-67d0-49d6-8467-6f8602c89154",
   "metadata": {
    "tags": []
   },
   "outputs": [
    {
     "name": "stderr",
     "output_type": "stream",
     "text": [
      "100%|██████████| 391/391 [00:23<00:00, 16.71it/s]\n",
      "100%|██████████| 1/1 [00:23<00:00, 23.44s/it]\n",
      "Finalizing features for all model IDs..: 100%|██████████| 1/1 [00:00<00:00,  8.93it/s]\n"
     ]
    }
   ],
   "source": [
    "for model_id, ckpt in enumerate(tqdm(ckpts)):\n",
    "    traker.load_checkpoint(ckpt, model_id=model_id)\n",
    "    for batch in tqdm(loader_train):\n",
    "        batch = [x.cuda() for x in batch]\n",
    "        traker.featurize(batch=batch, num_samples=batch[0].shape[0])\n",
    "\n",
    "traker.finalize_features()"
   ]
  },
  {
   "cell_type": "markdown",
   "id": "18430d04-e09b-4ec3-8104-8b86bc468c9b",
   "metadata": {},
   "source": [
    "## Compute TRAK scores for targets"
   ]
  },
  {
   "cell_type": "code",
   "execution_count": 12,
   "id": "96d6fbe7-2d76-47b5-8f35-a42d63705480",
   "metadata": {
    "tags": []
   },
   "outputs": [
    {
     "name": "stdout",
     "output_type": "stream",
     "text": [
      "Files already downloaded and verified\n"
     ]
    }
   ],
   "source": [
    "loader_targets = get_dataloader(batch_size=batch_size, split='val', augment=False)"
   ]
  },
  {
   "cell_type": "code",
   "execution_count": 13,
   "id": "a6629868-7026-4e9f-bbea-1d69515d6944",
   "metadata": {
    "tags": []
   },
   "outputs": [
    {
     "name": "stderr",
     "output_type": "stream",
     "text": [
      "100%|██████████| 1/1 [00:04<00:00,  4.31s/it]\n",
      "Finalizing scores for all model IDs..: 100%|██████████| 1/1 [00:00<00:00,  1.10it/s]\n",
      "INFO:STORE:Saving scores in /home/pbb/Project/Influential-Subset/linearizing/trak_results/scores/quickstart.mmap\n"
     ]
    }
   ],
   "source": [
    "for model_id, ckpt in enumerate(tqdm(ckpts)):\n",
    "    traker.start_scoring_checkpoint(exp_name='quickstart',\n",
    "                                    checkpoint=ckpt,\n",
    "                                    model_id=model_id,\n",
    "                                    num_targets=len(loader_targets.dataset))\n",
    "    for batch in loader_targets:\n",
    "        batch = [x.cuda() for x in batch]\n",
    "        traker.score(batch=batch, num_samples=batch[0].shape[0])\n",
    "\n",
    "scores = traker.finalize_scores(exp_name='quickstart')"
   ]
  },
  {
   "cell_type": "code",
   "execution_count": 14,
   "id": "d46c344a-3ba0-4c09-b26a-aeaf57f3e64a",
   "metadata": {
    "tags": []
   },
   "outputs": [],
   "source": [
    "from numpy.lib.format import open_memmap\n",
    "_scores = open_memmap('./trak_results/scores/quickstart.mmap')"
   ]
  },
  {
   "cell_type": "code",
   "execution_count": 15,
   "id": "45a88529",
   "metadata": {},
   "outputs": [],
   "source": [
    "# store the labels\n",
    "y = []\n",
    "for batch in loader_targets:\n",
    "    y = y + batch[1].tolist()\n",
    "y = np.array(y)\n",
    "np.save('trak_results/0/labels.npy', y)"
   ]
  },
  {
   "cell_type": "markdown",
   "id": "16611bba-d6f4-4d6e-a996-7714ac32be0b",
   "metadata": {
    "tags": []
   },
   "source": [
    "## Visualize TRAK scores"
   ]
  },
  {
   "cell_type": "code",
   "execution_count": 16,
   "id": "d5ca8c8b-6b51-4fdb-af27-23bf95f73772",
   "metadata": {
    "tags": []
   },
   "outputs": [],
   "source": [
    "from matplotlib import pyplot as plt"
   ]
  },
  {
   "cell_type": "code",
   "execution_count": 17,
   "id": "6472aefa-5510-44b9-a5e5-f2c8daa9e07b",
   "metadata": {
    "tags": []
   },
   "outputs": [
    {
     "name": "stdout",
     "output_type": "stream",
     "text": [
      "Files already downloaded and verified\n",
      "Files already downloaded and verified\n"
     ]
    }
   ],
   "source": [
    "ds_train = torchvision.datasets.CIFAR10(root='/tmp/cifar/', download=True, train=True)\n",
    "ds_val = torchvision.datasets.CIFAR10(root='/tmp/cifar/', download=True, train=False)"
   ]
  },
  {
   "cell_type": "code",
   "execution_count": 18,
   "id": "23d001f5-6986-4ccd-b86a-9045f9562965",
   "metadata": {
    "tags": []
   },
   "outputs": [
    {
     "data": {
      "image/png": "[encoded data removed]",
      "text/plain": [
       "<Figure size 1500x300 with 7 Axes>"
      ]
     },
     "metadata": {},
     "output_type": "display_data"
    },
    {
     "data": {
      "image/png": "[encoded data removed]",
      "text/plain": [
       "<Figure size 1500x300 with 7 Axes>"
      ]
     },
     "metadata": {},
     "output_type": "display_data"
    },
    {
     "data": {
      "image/png": "[encoded data removed]",
      "text/plain": [
       "<Figure size 1500x300 with 7 Axes>"
      ]
     },
     "metadata": {},
     "output_type": "display_data"
    }
   ],
   "source": [
    "for i in [7, 21, 22]:\n",
    "\n",
    "    fig, axs = plt.subplots(ncols=7, figsize=(15, 3))\n",
    "    fig.suptitle('Top scoring TRAK images from the train set')\n",
    "\n",
    "    axs[0].imshow(ds_val[i][0])\n",
    "\n",
    "    axs[0].axis('off'); axs[0].set_title('Target image')\n",
    "    axs[1].axis('off')\n",
    "\n",
    "    top_trak_scorers = scores[:, i].argsort()[-5:][::-1]\n",
    "    for ii, train_im_ind in enumerate(top_trak_scorers):\n",
    "        axs[ii + 2].imshow(ds_train[train_im_ind][0]); axs[ii + 2].axis('off')\n",
    "\n",
    "    fig.show()"
   ]
  },
  {
   "cell_type": "markdown",
   "id": "be58b75c-4cc2-414f-a11d-95c151119201",
   "metadata": {},
   "source": [
    "You can also explore TRAK scores computed for CIFAR-10 from multiple independently-trained models (10, 100, 1000 models) in this [colab notebook](https://colab.research.google.com/drive/1Mlpzno97qpI3UC1jpOATXEHPD-lzn9Wg?usp=sharing)."
   ]
  },
  {
   "cell_type": "markdown",
   "id": "7bbe341a-681c-4ea0-9685-18910e32485c",
   "metadata": {},
   "source": [
    "## Bonus: evaluate counterfactuals"
   ]
  },
  {
   "cell_type": "markdown",
   "id": "04d1e013-942a-426f-a6c0-327857c284bb",
   "metadata": {
    "tags": []
   },
   "source": [
    "We exactly follow the steps in https://docs.ffcv.io/ffcv_examples/cifar10.html. Additionally, we train on *subsets* of CIFAR-10, parametrized by the `masks` arrays below. We collect the model outputs for each retraining on a different subset (mask) in a separate array `margins`.\n",
    "\n",
    "We train a total of 10,000 models. Note that this is not necessary to get TRAK scores. This step is only necessary to get (very high quality) LDS correlation estimates."
   ]
  },
  {
   "cell_type": "code",
   "execution_count": 19,
   "id": "39ee710b-30e9-4bb1-9f4d-eb145b10b7d4",
   "metadata": {
    "tags": []
   },
   "outputs": [],
   "source": [
    "from scipy.stats import spearmanr"
   ]
  },
  {
   "cell_type": "code",
   "execution_count": 20,
   "id": "5ba25042-2b4d-4501-b611-4ac7eb716727",
   "metadata": {
    "tags": []
   },
   "outputs": [],
   "source": [
    "def eval_correlations(scores, tmp_path):\n",
    "    masks_url = 'https://www.dropbox.com/s/x76uyen8ffkjfke/mask.npy?dl=1'\n",
    "    margins_url = 'https://www.dropbox.com/s/q1dxoxw78ct7c27/val_margins.npy?dl=1'\n",
    "\n",
    "    masks_path = Path(tmp_path).joinpath('mask.npy')\n",
    "    wget.download(masks_url, out=str(masks_path), bar=None)\n",
    "    # num masks, num train samples\n",
    "    masks = torch.as_tensor(np.load(masks_path, mmap_mode='r')).float()\n",
    "\n",
    "    margins_path = Path(tmp_path).joinpath('val_margins.npy')\n",
    "    wget.download(margins_url, out=str(margins_path), bar=None)\n",
    "    # num , num val samples\n",
    "    margins = torch.as_tensor(np.load(margins_path, mmap_mode='r'))\n",
    "\n",
    "    val_inds = np.arange(10_000)\n",
    "    preds = masks @ scores\n",
    "    rs = []\n",
    "    ps = []\n",
    "    for ind, j in tqdm(enumerate(val_inds)):\n",
    "        r, p = spearmanr(preds[:, ind], margins[:, j])\n",
    "        rs.append(r)\n",
    "        ps.append(p)\n",
    "    rs, ps = np.array(rs), np.array(ps)\n",
    "    print(f'Correlation: {rs.mean():.3f} (avg p value {ps.mean():.6f})')\n",
    "    return rs.mean()"
   ]
  },
  {
   "cell_type": "code",
   "execution_count": 21,
   "id": "64b9e974-c668-4b91-a4e0-d362652af13c",
   "metadata": {
    "tags": []
   },
   "outputs": [
    {
     "name": "stderr",
     "output_type": "stream",
     "text": [
      "10000it [00:10, 932.65it/s]"
     ]
    },
    {
     "name": "stdout",
     "output_type": "stream",
     "text": [
      "Correlation: 0.013 (avg p value 0.359548)\n"
     ]
    },
    {
     "name": "stderr",
     "output_type": "stream",
     "text": [
      "\n"
     ]
    }
   ],
   "source": [
    "corr = eval_correlations(scores, '.')"
   ]
  }
 ],
 "metadata": {
  "kernelspec": {
   "display_name": "Python 3 (ipykernel)",
   "language": "python",
   "name": "python3"
  },
  "language_info": {
   "codemirror_mode": {
    "name": "ipython",
    "version": 3
   },
   "file_extension": ".py",
   "mimetype": "text/x-python",
   "name": "python",
   "nbconvert_exporter": "python",
   "pygments_lexer": "ipython3",
   "version": "3.9.18"
  }
 },
 "nbformat": 4,
 "nbformat_minor": 5
}
